{
 "cells": [
  {
   "cell_type": "code",
   "execution_count": 2,
   "metadata": {
    "scrolled": true
   },
   "outputs": [],
   "source": [
    "using PerlaTonettiWaugh"
   ]
  },
  {
   "cell_type": "markdown",
   "metadata": {},
   "source": [
    "## Overview\n",
    "\n",
    "This notebook reads in the calibrated parameter values and then computes the results associated with the transition dynamics appearing in Section 7-4. It is stripped down and just focuses on results in the paper. More analysis of the output/reults are presented in the notebook [TransitionDynamics_Full.ipynb](TransitionDynamics_Full.ipynb). \n",
    "\n",
    "Key components of the notebook are:\n",
    "\n",
    "- [Steady State Analysis](#steady)\n",
    "\n",
    "- [Transition Dynamics Computation](#trans)\n",
    "\n",
    "- [Welfare](#welfare)\n",
    "\n",
    "---\n",
    "### <a name=\"steady\"></a>Steady State Analysis"
   ]
  },
  {
   "cell_type": "code",
   "execution_count": 9,
   "metadata": {},
   "outputs": [],
   "source": [
    "params = load_parameters(\"parameters/calibration_params.csv\")\n",
    "baseline = merge(params, (d = params.d_0,))\n",
    "baseline_sol = stationary_algebraic(baseline, settings_defaults());"
   ]
  },
  {
   "cell_type": "code",
   "execution_count": 10,
   "metadata": {},
   "outputs": [],
   "source": [
    "new_params = merge(params, (d = params.d_T,))\n",
    "new_sol = stationary_algebraic(new_params, settings_defaults());"
   ]
  },
  {
   "cell_type": "code",
   "execution_count": 13,
   "metadata": {},
   "outputs": [
    {
     "name": "stdout",
     "output_type": "stream",
     "text": [
      "\n",
      "-------------------------------------------------------------------------\n",
      "SS to SS Baseline vs. 10% Lower Trade Costs\n",
      "\n"
     ]
    }
   ],
   "source": [
    "println(\"\")\n",
    "println(\"-------------------------------------------------------------------------\")\n",
    "println(\"SS to SS Baseline vs. 10% Lower Trade Costs\")\n",
    "println(\"\")"
   ]
  },
  {
   "cell_type": "code",
   "execution_count": 14,
   "metadata": {},
   "outputs": [
    {
     "name": "stdout",
     "output_type": "stream",
     "text": [
      "\n",
      "Change in Growth, Steady State to Steady State\n",
      "Growth in Baseline: 0.79\n",
      "Growth in New SS: 1.03\n",
      "\n"
     ]
    }
   ],
   "source": [
    "println(\"\")\n",
    "println(\"Change in Growth, Steady State to Steady State\")\n",
    "println(\"Growth in Baseline: \", round(100*baseline_sol.g, digits=2))\n",
    "println(\"Growth in New SS: \", round(100*new_sol.g, digits=2))\n",
    "println(\"\")"
   ]
  },
  {
   "cell_type": "code",
   "execution_count": 15,
   "metadata": {},
   "outputs": [
    {
     "name": "stdout",
     "output_type": "stream",
     "text": [
      "\n",
      "Imports/GDP, Steady State to Steady State\n",
      "Imports/GDP in Baseline: 10.6\n",
      "Imports/GDP in New SS: 14.4\n",
      "\n"
     ]
    }
   ],
   "source": [
    "println(\"\")\n",
    "println(\"Imports/GDP, Steady State to Steady State\")\n",
    "println(\"Imports/GDP in Baseline: \", round(100*(1 - baseline_sol.λ_ii), digits=1))\n",
    "println(\"Imports/GDP in New SS: \", round(100*(1 - new_sol.λ_ii), digits=1))\n",
    "println(\"\")"
   ]
  },
  {
   "cell_type": "code",
   "execution_count": 16,
   "metadata": {},
   "outputs": [
    {
     "name": "stdout",
     "output_type": "stream",
     "text": [
      "\n",
      "Consumption Equivalent Welfare Gain, Steady State to Steady State\n",
      "CE gains: 11.2\n",
      "\n"
     ]
    }
   ],
   "source": [
    "ss_ce = 100*consumption_equivalent(new_sol.U_bar, baseline_sol.U_bar, params);\n",
    "println(\"\")\n",
    "println(\"Consumption Equivalent Welfare Gain, Steady State to Steady State\")\n",
    "println(\"CE gains: \", round(ss_ce, digits=1))\n",
    "println(\"\")\n",
    "println(\"\")\n",
    "println(\"-------------------------------------------------------------------------\")"
   ]
  },
  {
   "cell_type": "markdown",
   "metadata": {},
   "source": [
    "---\n",
    "\n",
    "### <a name=\"trans\"></a>Transition Dynamics Computation"
   ]
  },
  {
   "cell_type": "code",
   "execution_count": 17,
   "metadata": {},
   "outputs": [
    {
     "name": "stderr",
     "output_type": "stream",
     "text": [
      "┌ Info: Precompiling Plots [91a5bcdd-55d7-5caf-9e0b-520d859cae80]\n",
      "└ @ Base loading.jl:1260\n",
      "┌ Info: Precompiling BenchmarkTools [6e4b80f9-dd63-53aa-95a3-0cdb28fa8baf]\n",
      "└ @ Base loading.jl:1260\n",
      "WARNING: using BenchmarkTools.params in module Main conflicts with an existing identifier.\n"
     ]
    },
    {
     "data": {
      "text/plain": [
       "Plots.GRBackend()"
      ]
     },
     "execution_count": 17,
     "metadata": {},
     "output_type": "execute_result"
    }
   ],
   "source": [
    "using CSV, Plots, JSON, BenchmarkTools, Parameters, DataFrames, Suppressor\n",
    "gr(fmt = :png)"
   ]
  },
  {
   "cell_type": "code",
   "execution_count": 18,
   "metadata": {},
   "outputs": [
    {
     "data": {
      "text/plain": [
       "(ρ = 0.0203380446685169, σ = 3.16692413583811, θ = 4.98897658793826, κ = 0.104196324793307, χ = 0.126846612050694, μ = -0.0310646242175711, υ = 0.0483011406016648, ζ = 1, δ = 0.02, N = 10, γ = 1, η = 0, Theta = 1, d_0 = 3.0224928254626, d_T = 2.82024354291634)"
      ]
     },
     "execution_count": 18,
     "metadata": {},
     "output_type": "execute_result"
    }
   ],
   "source": [
    "overall_parameters = load_parameters(\"parameters/calibration_params.csv\")"
   ]
  },
  {
   "cell_type": "code",
   "execution_count": 19,
   "metadata": {},
   "outputs": [],
   "source": [
    "settings = settings_defaults(); # numerical solution settings\n",
    "@unpack stationary_T, stationary_0, change_welfare, change_trade = compare_steady_states(overall_parameters, settings);"
   ]
  },
  {
   "cell_type": "markdown",
   "metadata": {},
   "source": [
    "Note that everything from here on out is using the **numerical** solution, so the values might be slightly different than the algebraic one. \n",
    "\n",
    "We do this so that the endpoints are valid targets for the dynamical experiment. \n",
    "\n",
    "To use the algebraic one, simply add `algebraic = true` to the `compare_steady_states` function above. "
   ]
  },
  {
   "cell_type": "code",
   "execution_count": 20,
   "metadata": {},
   "outputs": [
    {
     "name": "stdout",
     "output_type": "stream",
     "text": [
      "(stationary_T.g, stationary_T.z_hat, stationary_T.Ω, stationary_T.L_tilde) = (0.01025616153876511, 1.8523062408850237, 0.6508139010465566, 0.24606267582511263)\n"
     ]
    }
   ],
   "source": [
    "#@show (stationary_T.g, stationary_T.z_hat, stationary_T.Ω, stationary_T.L_tilde); # inspect time T solution"
   ]
  },
  {
   "cell_type": "code",
   "execution_count": 21,
   "metadata": {},
   "outputs": [
    {
     "name": "stdout",
     "output_type": "stream",
     "text": [
      "(stationary_0.g, stationary_0.z_hat, stationary_0.Ω, stationary_0.L_tilde) = (0.007920170474460874, 1.9881975410332189, 0.6852422606329861, 0.24226457898683534)\n"
     ]
    }
   ],
   "source": [
    "#@show (stationary_0.g, stationary_0.z_hat, stationary_0.Ω, stationary_0.L_tilde); # inspect time 0 solution"
   ]
  },
  {
   "cell_type": "code",
   "execution_count": 22,
   "metadata": {},
   "outputs": [
    {
     "data": {
      "text/plain": [
       "true"
      ]
     },
     "execution_count": 22,
     "metadata": {},
     "output_type": "execute_result"
    }
   ],
   "source": [
    "cachename = model_cachename(overall_parameters, settings) # uniquely identify the run by parameters + settings\n",
    "cachepath = joinpath(pwd(), \"data\", cachename * \".csv\")\n",
    "use_cache = true # change this to false if you don't want to use the cache for a run\n",
    "write_cache = true # change this to false if you don't want to generate *any* cache files for a run"
   ]
  },
  {
   "cell_type": "code",
   "execution_count": 29,
   "metadata": {},
   "outputs": [
    {
     "name": "stdout",
     "output_type": "stream",
     "text": [
      "\n",
      "Computing Transition Dynamics\n"
     ]
    }
   ],
   "source": [
    "println(\"\")\n",
    "println(\"Computing Transition Dynamics\")"
   ]
  },
  {
   "cell_type": "code",
   "execution_count": 23,
   "metadata": {},
   "outputs": [
    {
     "data": {
      "text/plain": [
       "\"14593292395764940198\""
      ]
     },
     "execution_count": 23,
     "metadata": {},
     "output_type": "execute_result"
    }
   ],
   "source": [
    "cachename # this is the hash for this run\n",
    "println(\"\")\n",
    "println(\"cachename: \", cachename)\n"
   ]
  },
  {
   "cell_type": "code",
   "execution_count": 24,
   "metadata": {},
   "outputs": [
    {
     "name": "stdout",
     "output_type": "stream",
     "text": [
      "solving without cache.\n",
      "491.598072 seconds (1.80 G allocations: 693.922 GiB, 14.64% gc time)\n"
     ]
    },
    {
     "data": {
      "text/html": [
       "<table class=\"data-frame\"><thead><tr><th></th><th>t</th><th>g</th><th>z_hat</th><th>Ω</th><th>E</th><th>v_1</th><th>L_tilde</th><th>entry_residual</th></tr><tr><th></th><th>Float64</th><th>Float64</th><th>Float64</th><th>Float64</th><th>Float64</th><th>Float64</th><th>Float64</th><th>Float64</th></tr></thead><tbody><p>176 rows × 21 columns (omitted printing of 13 columns)</p><tr><th>1</th><td>-20.0</td><td>0.00792017</td><td>1.9882</td><td>0.685242</td><td>0.02</td><td>6.86678</td><td>0.242265</td><td>-2.42473e-13</td></tr><tr><th>2</th><td>-15.0</td><td>0.00792017</td><td>1.9882</td><td>0.685242</td><td>0.02</td><td>6.86678</td><td>0.242265</td><td>-2.42473e-13</td></tr><tr><th>3</th><td>-10.0</td><td>0.00792017</td><td>1.9882</td><td>0.685242</td><td>0.02</td><td>6.86678</td><td>0.242265</td><td>-2.42473e-13</td></tr><tr><th>4</th><td>-5.0</td><td>0.00792017</td><td>1.9882</td><td>0.685242</td><td>0.02</td><td>6.86678</td><td>0.242265</td><td>-2.42473e-13</td></tr><tr><th>5</th><td>-1.0</td><td>0.00792017</td><td>1.9882</td><td>0.685242</td><td>0.02</td><td>6.86678</td><td>0.242265</td><td>-2.42473e-13</td></tr><tr><th>6</th><td>0.0</td><td>0.00898344</td><td>1.87504</td><td>0.685242</td><td>0.0158639</td><td>6.86678</td><td>0.230633</td><td>0.0</td></tr><tr><th>7</th><td>0.25</td><td>0.00899195</td><td>1.87488</td><td>0.68493</td><td>0.0159106</td><td>6.86678</td><td>0.230821</td><td>0.0</td></tr><tr><th>8</th><td>0.5</td><td>0.00900046</td><td>1.87473</td><td>0.684619</td><td>0.0159571</td><td>6.86678</td><td>0.231007</td><td>0.0</td></tr><tr><th>9</th><td>0.75</td><td>0.00900895</td><td>1.87457</td><td>0.684309</td><td>0.0160032</td><td>6.86678</td><td>0.231192</td><td>0.0</td></tr><tr><th>10</th><td>1.0</td><td>0.00901742</td><td>1.87442</td><td>0.684001</td><td>0.0160491</td><td>6.86678</td><td>0.231376</td><td>0.0</td></tr><tr><th>11</th><td>1.25</td><td>0.00902589</td><td>1.87427</td><td>0.683694</td><td>0.0160948</td><td>6.86678</td><td>0.231559</td><td>0.0</td></tr><tr><th>12</th><td>1.5</td><td>0.00903434</td><td>1.87411</td><td>0.683389</td><td>0.0161401</td><td>6.86678</td><td>0.23174</td><td>0.0</td></tr><tr><th>13</th><td>1.75</td><td>0.00904278</td><td>1.87396</td><td>0.683086</td><td>0.0161852</td><td>6.86678</td><td>0.23192</td><td>0.0</td></tr><tr><th>14</th><td>2.0</td><td>0.00905121</td><td>1.8738</td><td>0.682784</td><td>0.01623</td><td>6.86678</td><td>0.232098</td><td>0.0</td></tr><tr><th>15</th><td>2.25</td><td>0.00905962</td><td>1.87365</td><td>0.682483</td><td>0.0162745</td><td>6.86678</td><td>0.232276</td><td>0.0</td></tr><tr><th>16</th><td>2.5</td><td>0.00906803</td><td>1.8735</td><td>0.682184</td><td>0.0163188</td><td>6.86678</td><td>0.232452</td><td>0.0</td></tr><tr><th>17</th><td>2.75</td><td>0.00907642</td><td>1.87334</td><td>0.681886</td><td>0.0163627</td><td>6.86678</td><td>0.232627</td><td>0.0</td></tr><tr><th>18</th><td>3.0</td><td>0.0090848</td><td>1.87319</td><td>0.68159</td><td>0.0164064</td><td>6.86678</td><td>0.2328</td><td>0.0</td></tr><tr><th>19</th><td>3.25</td><td>0.00909317</td><td>1.87304</td><td>0.681295</td><td>0.0164498</td><td>6.86678</td><td>0.232973</td><td>0.0</td></tr><tr><th>20</th><td>3.5</td><td>0.00910153</td><td>1.87289</td><td>0.681001</td><td>0.016493</td><td>6.86678</td><td>0.233144</td><td>0.0</td></tr><tr><th>21</th><td>3.75</td><td>0.00910987</td><td>1.87274</td><td>0.680709</td><td>0.0165359</td><td>6.86678</td><td>0.233313</td><td>0.0</td></tr><tr><th>22</th><td>4.0</td><td>0.0091182</td><td>1.87258</td><td>0.680419</td><td>0.0165785</td><td>6.86678</td><td>0.233482</td><td>0.0</td></tr><tr><th>23</th><td>4.25</td><td>0.00912653</td><td>1.87243</td><td>0.68013</td><td>0.0166208</td><td>6.86678</td><td>0.233649</td><td>0.0</td></tr><tr><th>24</th><td>4.5</td><td>0.00913484</td><td>1.87228</td><td>0.679842</td><td>0.0166628</td><td>6.86678</td><td>0.233815</td><td>0.0</td></tr><tr><th>25</th><td>4.75</td><td>0.00914314</td><td>1.87213</td><td>0.679555</td><td>0.0167046</td><td>6.86678</td><td>0.23398</td><td>0.0</td></tr><tr><th>26</th><td>5.0</td><td>0.00915142</td><td>1.87198</td><td>0.679271</td><td>0.0167461</td><td>6.86678</td><td>0.234143</td><td>0.0</td></tr><tr><th>27</th><td>5.25</td><td>0.0091597</td><td>1.87183</td><td>0.678987</td><td>0.0167873</td><td>6.86678</td><td>0.234305</td><td>0.0</td></tr><tr><th>28</th><td>5.5</td><td>0.00916797</td><td>1.87168</td><td>0.678705</td><td>0.0168283</td><td>6.86678</td><td>0.234466</td><td>0.0</td></tr><tr><th>29</th><td>5.75</td><td>0.00917622</td><td>1.87153</td><td>0.678424</td><td>0.016869</td><td>6.86678</td><td>0.234626</td><td>0.0</td></tr><tr><th>30</th><td>6.0</td><td>0.00918447</td><td>1.87138</td><td>0.678145</td><td>0.0169094</td><td>6.86678</td><td>0.234784</td><td>0.0</td></tr><tr><th>&vellip;</th><td>&vellip;</td><td>&vellip;</td><td>&vellip;</td><td>&vellip;</td><td>&vellip;</td><td>&vellip;</td><td>&vellip;</td><td>&vellip;</td></tr></tbody></table>"
      ],
      "text/latex": [
       "\\begin{tabular}{r|ccccccccc}\n",
       "\t& t & g & z\\_hat & Ω & E & v\\_1 & L\\_tilde & entry\\_residual & \\\\\n",
       "\t\\hline\n",
       "\t& Float64 & Float64 & Float64 & Float64 & Float64 & Float64 & Float64 & Float64 & \\\\\n",
       "\t\\hline\n",
       "\t1 & -20.0 & 0.00792017 & 1.9882 & 0.685242 & 0.02 & 6.86678 & 0.242265 & -2.42473e-13 & $\\dots$ \\\\\n",
       "\t2 & -15.0 & 0.00792017 & 1.9882 & 0.685242 & 0.02 & 6.86678 & 0.242265 & -2.42473e-13 & $\\dots$ \\\\\n",
       "\t3 & -10.0 & 0.00792017 & 1.9882 & 0.685242 & 0.02 & 6.86678 & 0.242265 & -2.42473e-13 & $\\dots$ \\\\\n",
       "\t4 & -5.0 & 0.00792017 & 1.9882 & 0.685242 & 0.02 & 6.86678 & 0.242265 & -2.42473e-13 & $\\dots$ \\\\\n",
       "\t5 & -1.0 & 0.00792017 & 1.9882 & 0.685242 & 0.02 & 6.86678 & 0.242265 & -2.42473e-13 & $\\dots$ \\\\\n",
       "\t6 & 0.0 & 0.00898344 & 1.87504 & 0.685242 & 0.0158639 & 6.86678 & 0.230633 & 0.0 & $\\dots$ \\\\\n",
       "\t7 & 0.25 & 0.00899195 & 1.87488 & 0.68493 & 0.0159106 & 6.86678 & 0.230821 & 0.0 & $\\dots$ \\\\\n",
       "\t8 & 0.5 & 0.00900046 & 1.87473 & 0.684619 & 0.0159571 & 6.86678 & 0.231007 & 0.0 & $\\dots$ \\\\\n",
       "\t9 & 0.75 & 0.00900895 & 1.87457 & 0.684309 & 0.0160032 & 6.86678 & 0.231192 & 0.0 & $\\dots$ \\\\\n",
       "\t10 & 1.0 & 0.00901742 & 1.87442 & 0.684001 & 0.0160491 & 6.86678 & 0.231376 & 0.0 & $\\dots$ \\\\\n",
       "\t11 & 1.25 & 0.00902589 & 1.87427 & 0.683694 & 0.0160948 & 6.86678 & 0.231559 & 0.0 & $\\dots$ \\\\\n",
       "\t12 & 1.5 & 0.00903434 & 1.87411 & 0.683389 & 0.0161401 & 6.86678 & 0.23174 & 0.0 & $\\dots$ \\\\\n",
       "\t13 & 1.75 & 0.00904278 & 1.87396 & 0.683086 & 0.0161852 & 6.86678 & 0.23192 & 0.0 & $\\dots$ \\\\\n",
       "\t14 & 2.0 & 0.00905121 & 1.8738 & 0.682784 & 0.01623 & 6.86678 & 0.232098 & 0.0 & $\\dots$ \\\\\n",
       "\t15 & 2.25 & 0.00905962 & 1.87365 & 0.682483 & 0.0162745 & 6.86678 & 0.232276 & 0.0 & $\\dots$ \\\\\n",
       "\t16 & 2.5 & 0.00906803 & 1.8735 & 0.682184 & 0.0163188 & 6.86678 & 0.232452 & 0.0 & $\\dots$ \\\\\n",
       "\t17 & 2.75 & 0.00907642 & 1.87334 & 0.681886 & 0.0163627 & 6.86678 & 0.232627 & 0.0 & $\\dots$ \\\\\n",
       "\t18 & 3.0 & 0.0090848 & 1.87319 & 0.68159 & 0.0164064 & 6.86678 & 0.2328 & 0.0 & $\\dots$ \\\\\n",
       "\t19 & 3.25 & 0.00909317 & 1.87304 & 0.681295 & 0.0164498 & 6.86678 & 0.232973 & 0.0 & $\\dots$ \\\\\n",
       "\t20 & 3.5 & 0.00910153 & 1.87289 & 0.681001 & 0.016493 & 6.86678 & 0.233144 & 0.0 & $\\dots$ \\\\\n",
       "\t21 & 3.75 & 0.00910987 & 1.87274 & 0.680709 & 0.0165359 & 6.86678 & 0.233313 & 0.0 & $\\dots$ \\\\\n",
       "\t22 & 4.0 & 0.0091182 & 1.87258 & 0.680419 & 0.0165785 & 6.86678 & 0.233482 & 0.0 & $\\dots$ \\\\\n",
       "\t23 & 4.25 & 0.00912653 & 1.87243 & 0.68013 & 0.0166208 & 6.86678 & 0.233649 & 0.0 & $\\dots$ \\\\\n",
       "\t24 & 4.5 & 0.00913484 & 1.87228 & 0.679842 & 0.0166628 & 6.86678 & 0.233815 & 0.0 & $\\dots$ \\\\\n",
       "\t25 & 4.75 & 0.00914314 & 1.87213 & 0.679555 & 0.0167046 & 6.86678 & 0.23398 & 0.0 & $\\dots$ \\\\\n",
       "\t26 & 5.0 & 0.00915142 & 1.87198 & 0.679271 & 0.0167461 & 6.86678 & 0.234143 & 0.0 & $\\dots$ \\\\\n",
       "\t27 & 5.25 & 0.0091597 & 1.87183 & 0.678987 & 0.0167873 & 6.86678 & 0.234305 & 0.0 & $\\dots$ \\\\\n",
       "\t28 & 5.5 & 0.00916797 & 1.87168 & 0.678705 & 0.0168283 & 6.86678 & 0.234466 & 0.0 & $\\dots$ \\\\\n",
       "\t29 & 5.75 & 0.00917622 & 1.87153 & 0.678424 & 0.016869 & 6.86678 & 0.234626 & 0.0 & $\\dots$ \\\\\n",
       "\t30 & 6.0 & 0.00918447 & 1.87138 & 0.678145 & 0.0169094 & 6.86678 & 0.234784 & 0.0 & $\\dots$ \\\\\n",
       "\t$\\dots$ & $\\dots$ & $\\dots$ & $\\dots$ & $\\dots$ & $\\dots$ & $\\dots$ & $\\dots$ & $\\dots$ &  \\\\\n",
       "\\end{tabular}\n"
      ],
      "text/plain": [
       "176×21 DataFrame. Omitted printing of 15 columns\n",
       "│ Row │ t       │ g          │ z_hat   │ Ω        │ E         │ v_1     │\n",
       "│     │ \u001b[90mFloat64\u001b[39m │ \u001b[90mFloat64\u001b[39m    │ \u001b[90mFloat64\u001b[39m │ \u001b[90mFloat64\u001b[39m  │ \u001b[90mFloat64\u001b[39m   │ \u001b[90mFloat64\u001b[39m │\n",
       "├─────┼─────────┼────────────┼─────────┼──────────┼───────────┼─────────┤\n",
       "│ 1   │ -20.0   │ 0.00792017 │ 1.9882  │ 0.685242 │ 0.02      │ 6.86678 │\n",
       "│ 2   │ -15.0   │ 0.00792017 │ 1.9882  │ 0.685242 │ 0.02      │ 6.86678 │\n",
       "│ 3   │ -10.0   │ 0.00792017 │ 1.9882  │ 0.685242 │ 0.02      │ 6.86678 │\n",
       "│ 4   │ -5.0    │ 0.00792017 │ 1.9882  │ 0.685242 │ 0.02      │ 6.86678 │\n",
       "│ 5   │ -1.0    │ 0.00792017 │ 1.9882  │ 0.685242 │ 0.02      │ 6.86678 │\n",
       "│ 6   │ 0.0     │ 0.00898344 │ 1.87504 │ 0.685242 │ 0.0158639 │ 6.86678 │\n",
       "│ 7   │ 0.25    │ 0.00899195 │ 1.87488 │ 0.68493  │ 0.0159106 │ 6.86678 │\n",
       "│ 8   │ 0.5     │ 0.00900046 │ 1.87473 │ 0.684619 │ 0.0159571 │ 6.86678 │\n",
       "│ 9   │ 0.75    │ 0.00900895 │ 1.87457 │ 0.684309 │ 0.0160032 │ 6.86678 │\n",
       "│ 10  │ 1.0     │ 0.00901742 │ 1.87442 │ 0.684001 │ 0.0160491 │ 6.86678 │\n",
       "⋮\n",
       "│ 166 │ 74.488  │ 0.0102562  │ 1.85231 │ 0.650814 │ 0.02      │ 6.86678 │\n",
       "│ 167 │ 74.744  │ 0.0102562  │ 1.85231 │ 0.650814 │ 0.02      │ 6.86678 │\n",
       "│ 168 │ 74.872  │ 0.0102562  │ 1.85231 │ 0.650814 │ 0.02      │ 6.86678 │\n",
       "│ 169 │ 74.936  │ 0.0102562  │ 1.85231 │ 0.650814 │ 0.02      │ 6.86678 │\n",
       "│ 170 │ 74.968  │ 0.0102562  │ 1.85231 │ 0.650814 │ 0.02      │ 6.86678 │\n",
       "│ 171 │ 74.984  │ 0.0102562  │ 1.85231 │ 0.650814 │ 0.02      │ 6.86678 │\n",
       "│ 172 │ 74.992  │ 0.0102562  │ 1.85231 │ 0.650814 │ 0.02      │ 6.86678 │\n",
       "│ 173 │ 74.996  │ 0.0102562  │ 1.85231 │ 0.650814 │ 0.02      │ 6.86678 │\n",
       "│ 174 │ 74.998  │ 0.0102562  │ 1.85231 │ 0.650814 │ 0.02      │ 6.86678 │\n",
       "│ 175 │ 74.999  │ 0.0102562  │ 1.85231 │ 0.650814 │ 0.02      │ 6.86678 │\n",
       "│ 176 │ 75.0    │ 0.0102562  │ 1.85231 │ 0.650814 │ 0.02      │ 6.86678 │"
      ]
     },
     "execution_count": 24,
     "metadata": {},
     "output_type": "execute_result"
    }
   ],
   "source": [
    "if isfile(cachepath) && use_cache # read if possible\n",
    "    println(\"\")\n",
    "    println(\"using cache.\")\n",
    "    solved = CSV.read(cachepath);\n",
    "else\n",
    "    println(\"\")\n",
    "    println(\"solving without cache\")\n",
    "    @time solution = @suppress solve_transition(overall_parameters, settings);\n",
    "    solved = solution.results \n",
    "end"
   ]
  },
  {
   "cell_type": "code",
   "execution_count": 25,
   "metadata": {},
   "outputs": [
    {
     "data": {
      "text/plain": [
       "6323"
      ]
     },
     "execution_count": 25,
     "metadata": {},
     "output_type": "execute_result"
    }
   ],
   "source": [
    "if write_cache\n",
    "    mkpath(joinpath(pwd(), \"data\")); # if this doesn't eist for whatever reason\n",
    "    CSV.write(cachepath, solved); # write DataFrame\n",
    "    write(joinpath(pwd(), \"data\", cachename * \".json\"), JSON.json((parameters = overall_parameters, settings = merge(settings, (interp = typeof(settings.interp), stationary_x0 = typeof(settings.stationary_x0), fixedpoint_x0 = typeof(settings.fixedpoint_x0) ))))); # write parameters\n",
    "else\n",
    "    # nothing\n",
    "end"
   ]
  },
  {
   "cell_type": "markdown",
   "metadata": {},
   "source": [
    "---\n",
    "\n",
    "### <a name=\"welfare\"></a> Welfare\n",
    "\n",
    "Here's welfare inclusive of the transition path:"
   ]
  },
  {
   "cell_type": "code",
   "execution_count": 28,
   "metadata": {},
   "outputs": [
    {
     "name": "stdout",
     "output_type": "stream",
     "text": [
      "\n",
      "Consumption Equivalent Welfare Gain, Steady State to Steady State\n",
      "CE gains: 10.8\n",
      "\n"
     ]
    }
   ],
   "source": [
    "ce_transition = 100*consumption_equivalent(solved.U[6], stationary_0.U_bar, load_parameters(\"parameters/calibration_params.csv\"));\n",
    "println(\"\")\n",
    "println(\"-------------------------------------------------------------------------\")\n",
    "println(\"\")\n",
    "println(\"Consumption Equivalent Welfare Gain, Inclusive of Transition Path\")\n",
    "println(\"CE gains: \", round(ce_transition, digits=1))\n",
    "println(\"\")"
   ]
  }
 ],
 "metadata": {
  "kernelspec": {
   "display_name": "Julia 1.4.0",
   "language": "julia",
   "name": "julia-1.4"
  },
  "language_info": {
   "file_extension": ".jl",
   "mimetype": "application/julia",
   "name": "julia",
   "version": "1.4.0"
  }
 },
 "nbformat": 4,
 "nbformat_minor": 4
}
