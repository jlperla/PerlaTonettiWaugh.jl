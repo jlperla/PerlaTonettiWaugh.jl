{
 "cells": [
  {
   "cell_type": "markdown",
   "metadata": {},
   "source": [
    "---\n",
    "### [Equilibrium Technology Diffusion, Trade, and Growth](https://christophertonetti.com/files/papers/PerlaTonettiWaugh_DiffusionTradeAndGrowth.pdf) by Perla, Tonetti, and Waugh (AER 2020)\n",
	"---\n",
    "### Further Analysis: 7.4. The Welfare Effects of a Reduction in Trade Costs\n",
    "\n",
    "Table of Contents\n",
    "\n",
    "- [MATLAB calibration routines (Sampson, no firm dynamics](#cal)\n",
    "\n",
    "- [Welfare analysis](#welfare)\n",
    "\n",
    "- [Comparision to Atkeson and Burstein (2010)](#abmodel)"
   ]
  },
  {
   "cell_type": "markdown",
   "metadata": {},
   "source": [
    "#### Be sure to have correct paths..."
   ]
  },
  {
   "cell_type": "code",
   "execution_count": 1,
   "metadata": {},
   "outputs": [],
   "source": [
	"# Set your paths appropriately for your configuration.\n",
    "julia_path = '''C:\\\\Users\\\\mwaugh\\\\AppData\\\\Local\\\\Programs\\\\Julia\\\\Julia-1.4.0\\\\bin\\\\julia.exe'''\n",
    "\n",
    "matlab_path = '''matlab'''\n",
    "# This assumes that Matlab is in your path (this occurs under standard install) If not then direct it to\n",
    "# program files / matlab / version/ bin/ matlab.exe\n",
    "# needs to be in triple quotes"
   ]
  },
  {
   "cell_type": "markdown",
   "metadata": {},
   "source": [
    "---\n",
    "### <a name=\"cal\"></a> Matlab calibration routines\n",
    "\n",
    "The code below executes the calibration routines for several alternative models and moments. The alternatives are (i) a calibration matching to moments similar to those of Sampson (2016) (ii) a calibration without GBM firm productivity shocks, named \"no firm dynamics\" , (iii) an autarky calibration, and (iv) the model of Atkeson and Burstein (2010) calibrated to moments similar to ours."
   ]
  },
  {
   "cell_type": "markdown",
   "metadata": {},
   "source": [
    "#### Sampson (2016)"
   ]
  },
  {
   "cell_type": "code",
   "execution_count": 2,
   "metadata": {},
   "outputs": [
    {
     "name": "stdout",
     "output_type": "stream",
     "text": [
      " \n",
      "Optimization terminated:\n",
      " the current x satisfies the termination criteria using OPTIONS.TolX of 1.000000e-04 \n",
      " and F(X) satisfies the convergence criteria using OPTIONS.TolFun of 1.000000e-04 \n",
      "\n",
      "Elapsed time is 25.821323 seconds.\n",
      "   7.0623e-10\n",
      "\n",
      "Parameter Values\n",
      "d, theta, kappa, 1/chi\n",
      "    3.4709    4.9889    0.0488    3.7392\n",
      "\n",
      "Moments: Sampson Targets and Model\n",
      "    0.0156    0.0156\n",
      "    0.9190    0.9190\n",
      "    0.0330    0.0330\n",
      "    4.8000    4.8000\n",
      "\n"
     ]
    }
   ],
   "source": [
    "matlab_cmd = '''\"cd('src\\calibration');calibrate_wrap_sampson;\"'''\n",
    "\n",
    "!{matlab_path} -batch {matlab_cmd}"
   ]
  },
  {
   "cell_type": "markdown",
   "metadata": {},
   "source": [
    "#### No firm dynamics"
   ]
  },
  {
   "cell_type": "code",
   "execution_count": 3,
   "metadata": {},
   "outputs": [
    {
     "name": "stdout",
     "output_type": "stream",
     "text": [
      " \n",
      "Optimization terminated:\n",
      " the current x satisfies the termination criteria using OPTIONS.TolX of 1.000000e-04 \n",
      " and F(X) satisfies the convergence criteria using OPTIONS.TolFun of 1.000000e-04 \n",
      "\n",
      "Elapsed time is 27.860194 seconds.\n",
      "   2.7574e-09\n",
      "\n",
      "Parameter Values\n",
      "d, theta, kappa, 1/chi\n",
      "    3.0228    4.9889    0.0370    3.2887\n",
      "\n",
      "Moments: Targets and Model\n",
      "    0.0079    0.0079\n",
      "    0.8937    0.8937\n",
      "    0.0330    0.0330\n",
      "    4.8000    4.8000\n",
      "\n"
     ]
    }
   ],
   "source": [
    "matlab_cmd = '''\"cd('src\\calibration');calibrate_wrap_no_firm_dynamics;\"'''\n",
    "\n",
    "!{matlab_path} -batch {matlab_cmd}"
   ]
  },
  {
   "cell_type": "markdown",
   "metadata": {},
   "source": [
    "---\n",
    "### <a name=\"welfare\"></a> Steady State Welfare Analysis\n",
    "\n",
    "Julia notebook is called which computes welfare across steady states for our baseline calibration and then for the alternative Autarky, Sampson, and No Firm Dynamics calibrations."
   ]
  },
  {
   "cell_type": "code",
   "execution_count": 4,
   "metadata": {},
   "outputs": [
    {
     "name": "stderr",
     "output_type": "stream",
     "text": [
      "[NbConvertApp] Converting notebook SteadyState.ipynb to script\n",
      "[NbConvertApp] Writing 4263 bytes to SteadyState.jl\n"
     ]
    }
   ],
   "source": [
    "!jupyter nbconvert --to script SteadyState.ipynb"
   ]
  },
  {
   "cell_type": "code",
   "execution_count": 5,
   "metadata": {},
   "outputs": [
    {
     "name": "stdout",
     "output_type": "stream",
     "text": [
      "\n",
      "-------------------------------------------------------------------------\n",
      "Baseline vs. 10% Lower Trade Costs\n",
      "Table 4\n",
      "\n",
      "\n",
      "Change in Growth, Steady State to Steady State\n",
      "Growth in Baseline: 0.79\n",
      "Growth in New SS: 1.03\n",
      "\n",
      "\n",
      "Imports/GDP, Steady State to Steady State\n",
      "Imports/GDP in Baseline: 10.6\n",
      "Imports/GDP in New SS: 14.4\n",
      "\n",
      "\n",
      "Consumption Equivalent Welfare Gain, Steady State to Steady State\n",
      "CE gains: 11.2\n",
      "\n",
      "\n",
      "ACR Formula Consumption Equivalent Welfare Gain\n",
      "ACR gains: 0.87\n",
      "\n",
      "\n",
      "-------------------------------------------------------------------------\n",
      "Autarky Calculations\n",
      "\n",
      "\n",
      "Autarky Consumption Equivalent Welfare Gain, Steady State to Steady State\n",
      "Autarky CE gains: -22.1\n",
      "\n",
      "Autarky ACR Formula Consumption Equivalent Welfare Gain\n",
      "Autarky ACR gains: -2.21\n",
      "\n",
      "\n",
      "-------------------------------------------------------------------------\n",
      "Sampson Calibration\n",
      "\n",
      "\n",
      "Sampson Calibration, Change in Growth, Steady State to Steady State\n",
      "Growth in Baseline: 1.56\n",
      "Growth in New SS (Autarky): 1.33\n",
      "\n",
      "Sampson Calibration Consumption Equivalent Welfare Gain, Steady State to Steady State  (Autarky)\n",
      "CE gains: -3.3\n",
      "\n",
      "\n",
      "-------------------------------------------------------------------------\n",
      "No GBM Calibration\n",
      "\n",
      "No GBM Calibration, Change in Growth, Steady State to Steady State\n",
      "Growth in Baseline: 0.79\n",
      "Growth in New SS (Autarky): 0.63\n",
      "\n",
      "No GBM Calibration Consumption Equivalent Welfare Gain, Steady State to Steady State (Autarky)\n",
      "CE gains: -5.8\n"
     ]
    }
   ],
   "source": [
    "julia_command = '''SteadyState.jl'''\n",
    "\n",
    "!{julia_path} {julia_command}"
   ]
  },
  {
   "cell_type": "markdown",
   "metadata": {},
   "source": [
    "---\n",
    "### <a name=\"ABmodel\"></a>  Comparison to Atkeson and Burstein (2010)\n",
    "\n",
    "The base of this code was downloaded from [Ariel Burstein's website](http://www.econ.ucla.edu/arielb/) at:\n",
    "\n",
    "[http://www.econ.ucla.edu/arielb/innovcodes.zip](http://www.econ.ucla.edu/arielb/innovcodes.zip)\n",
    "\n",
    "Starting from Burstein's code, we set the discount rate, elasticity of substitution, the exit rate of firms, and the aggregate import share to be the same as in our baseline calibration. We focused on the intermediate innovation elasticity case of $b = 30$. The code is located in ``src/calibration/ABmodel`` and ``Master_ptw`` runs the routine and returns the welfare gains from the same reduction in trade costs as in PTW, inclusive of the transition path. **Note:** The transition path does take a fair amount of time to compute."
   ]
  },
  {
   "cell_type": "code",
   "execution_count": 6,
   "metadata": {},
   "outputs": [
    {
     "name": "stdout",
     "output_type": "stream",
     "text": [
      " \n",
      "Computing Atkeson Burstein (2010) model\n",
      "%%%%%%%%%%%%%%%%%%%%%%%%%%%%%%%%%%%%%%%%%%%%%%%%%%%%%%%\n",
      "Initial Steady State\n",
      " \n",
      "Trade/GDP\n",
      "    0.1060\n",
      "\n",
      " \n",
      "%%%%%%%%%%%%%%%%%%%%%%%%%%%%%%%%%%%%%%%%%%%%%%%%%%%%%%%\n",
      "New Steady State\n",
      " \n",
      "Trade/GDP\n",
      "    0.1500\n",
      "\n",
      " \n",
      "%%%%%%%%%%%%%%%%%%%%%%%%%%%%%%%%%%%%%%%%%%%%%%%%%%%%%%%\n",
      "Computing Transition Path\n",
      " \n",
      "Welfare Gains in Atkeson Burstein (2010) model\n",
      "    0.8490\n",
      "\n"
     ]
    }
   ],
   "source": [
    "matlab_cmd = '''\"cd('src\\calibration\\ABmodel');Master_ptw;\"'''\n",
    "\n",
    "!{matlab_path} -batch {matlab_cmd}"
   ]
  }
 ],
 "metadata": {
  "kernelspec": {
   "display_name": "Python 3",
   "language": "python",
   "name": "python3"
  },
  "language_info": {
   "codemirror_mode": {
    "name": "ipython",
    "version": 3
   },
   "file_extension": ".py",
   "mimetype": "text/x-python",
   "name": "python",
   "nbconvert_exporter": "python",
   "pygments_lexer": "ipython3",
   "version": "3.7.3"
  }
 },
 "nbformat": 4,
 "nbformat_minor": 4
}
