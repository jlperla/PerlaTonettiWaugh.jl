{
 "cells": [
  {
   "cell_type": "markdown",
   "metadata": {},
   "source": [
    "---\n",
    "### [Equilibrium Technology Diffusion, Trade, and Growth](https://christophertonetti.com/files/papers/PerlaTonettiWaugh_DiffusionTradeAndGrowth.pdf) by Perla, Tonetti, and Waugh (AER 2020)\n",
    "\n",
    "## Section 7.3. The Sources of the Welfare Gains from Trade—A Quantitative Decomposition\n",
    "\n",
    "Table of Contents\n",
    "\n",
    "- [Computational Preliminaries](#comp)\n",
    "\n",
    "- [Welfare Decomposition](#decomp)\n",
    "\n",
    "- [How Inefficient is the Decentralized Equilibrium?](#how)\n",
    "\n",
    "- [Comparison to ACR](#acr)\n"
   ]
  },
  {
   "cell_type": "markdown",
   "metadata": {},
   "source": [
    "---\n",
    "### <a name=\"comp\"></a> Computational Preliminaries\n",
    "\n",
    "Load the package and settings."
   ]
  },
  {
   "cell_type": "code",
   "execution_count": 52,
   "metadata": {
    "scrolled": true
   },
   "outputs": [],
   "source": [
    "using PerlaTonettiWaugh\n",
    "using CSV"
   ]
  },
  {
   "cell_type": "code",
   "execution_count": 29,
   "metadata": {},
   "outputs": [
    {
     "data": {
      "text/plain": [
       "(ρ = 0.0203380446685169, σ = 3.16692413583811, θ = 4.98897658793826, κ = 0.104196324793307, χ = 0.126846612050694, μ = -0.0310646242175711, υ = 0.0483011406016648, ζ = 1, δ = 0.02, N = 10, γ = 1, η = 0, Theta = 1, d_0 = 3.0224928254626, d_T = 2.82024354291634)"
      ]
     },
     "execution_count": 29,
     "metadata": {},
     "output_type": "execute_result"
    }
   ],
   "source": [
    "params = load_parameters(\"parameters/calibration_params.csv\") \n",
    "# Load the baseline calibration parameter values."
   ]
  },
  {
   "cell_type": "code",
   "execution_count": 30,
   "metadata": {},
   "outputs": [],
   "source": [
    "# settings for numerically computing the derivative\n",
    "d_baseline = params.d_0\n",
    "ϵ = 0.000001\n",
    "d_ϵ = d_baseline + ϵ;"
   ]
  },
  {
   "cell_type": "markdown",
   "metadata": {},
   "source": [
    "#### Baseline Steady State\n",
    "\n",
    "Report values for key variables in the baseline economy."
   ]
  },
  {
   "cell_type": "code",
   "execution_count": 31,
   "metadata": {},
   "outputs": [],
   "source": [
    "params_baseline_1 = merge(params, (d = params.d_0,))\n",
    "baseline_sol = stationary_algebraic(params_baseline_1, settings_defaults());"
   ]
  },
  {
   "cell_type": "code",
   "execution_count": 32,
   "metadata": {},
   "outputs": [
    {
     "name": "stdout",
     "output_type": "stream",
     "text": [
      "-------------------------------------------------------------------------\n",
      "\n",
      "Baseline Steady State\n",
      "Growth in Baseline: 0.7913401963163271\n",
      "Imports/GDP in Baseline: 10.629127170507878\n",
      "Normalized Consumption in Baseline: 87.06834939103561\n"
     ]
    }
   ],
   "source": [
    "println(\"-------------------------------------------------------------------------\")\n",
    "println(\"\")\n",
    "println(\"Baseline Steady State\")\n",
    "println(\"Growth in Baseline: \", 100*baseline_sol.g)\n",
    "println(\"Imports/GDP in Baseline: \", 100*(1 - baseline_sol.λ_ii))\n",
    "println(\"Normalized Consumption in Baseline: \", 100*baseline_sol.c)"
   ]
  },
  {
   "cell_type": "markdown",
   "metadata": {},
   "source": [
    "#### Counterfactual Steady State\n",
    "\n",
    "Report values for key variables in the counterfactual steady state. In this counterfactual, we raise trade costs by a very small amount."
   ]
  },
  {
   "cell_type": "code",
   "execution_count": 33,
   "metadata": {},
   "outputs": [],
   "source": [
    "params_counterfactual_1 = merge(params, (d = d_ϵ,))\n",
    "sol = stationary_algebraic(params_counterfactual_1, settings_defaults());"
   ]
  },
  {
   "cell_type": "code",
   "execution_count": 34,
   "metadata": {},
   "outputs": [
    {
     "name": "stdout",
     "output_type": "stream",
     "text": [
      "-------------------------------------------------------------------------\n",
      "\n",
      "Small change in trade costs\n",
      "Growth: 0.7913392605706997\n",
      "Imports/GDP: 10.629111302522997\n",
      "Normalized Consumption: 87.06835265233951\n"
     ]
    }
   ],
   "source": [
    "println(\"-------------------------------------------------------------------------\")\n",
    "println(\"\")\n",
    "println(\"Small change in trade costs\")\n",
    "println(\"Growth: \", 100*sol.g)\n",
    "println(\"Imports/GDP: \", 100*(1 - sol.λ_ii))\n",
    "println(\"Normalized Consumption: \", 100*sol.c)"
   ]
  },
  {
   "cell_type": "markdown",
   "metadata": {},
   "source": [
    "#### Total Derivative\n",
    "\n",
    "Now we will compute the total derivative using the function ``total_derivative``"
   ]
  },
  {
   "cell_type": "code",
   "execution_count": 35,
   "metadata": {},
   "outputs": [],
   "source": [
    "tot_d = total_derivative(params_baseline_1, ϵ);"
   ]
  },
  {
   "cell_type": "markdown",
   "metadata": {},
   "source": [
    "---\n",
    "### <a name=\"decomp\"></a> Welfare Decomposition\n",
    "\n",
    "The function ``total_derivative`` starts from the equilibrium steady state allocation of the calibrated model and then computes the change in welfare associated with a very small increase in trade costs. The object ``tot_d`` contains a bunch of information about the derivative (e.g., checks of accuracy, the level of the derivatives, combinations of different components, etc.). Below we present the contribution of each of the direct and indirect terms as a percentage of the total change.\n",
    "\n",
    "The presentation below mimics exactly equation (60) of the March 2020 NBER WP version."
   ]
  },
  {
   "cell_type": "markdown",
   "metadata": {},
   "source": [
    "#### Direct effect on consumption: $\\bar{U}_{1} \\frac{\\partial f_c}{\\partial d}$"
   ]
  },
  {
   "cell_type": "code",
   "execution_count": 36,
   "metadata": {},
   "outputs": [
    {
     "name": "stdout",
     "output_type": "stream",
     "text": [
      "Direct effect on consumption (in percent): 8.321\n"
     ]
    }
   ],
   "source": [
    "println(\"Direct effect on consumption (in percent): \", round(100*tot_d.U1_partial_fc_d_frac,digits = 3))"
   ]
  },
  {
   "cell_type": "markdown",
   "metadata": {},
   "source": [
    "#### Indirect effect on variety: $\\bar{U}_{1} \\frac{\\partial f_c}{\\partial \\Omega} \\frac{\\mathrm{d} f_{\\Omega} }{\\mathrm{d} d}$"
   ]
  },
  {
   "cell_type": "code",
   "execution_count": 37,
   "metadata": {},
   "outputs": [
    {
     "name": "stdout",
     "output_type": "stream",
     "text": [
      "Indirect effect on consumption (in percent): -7.279\n"
     ]
    }
   ],
   "source": [
    "println(\"Indirect effect on consumption (in percent): \", round(100*tot_d.U1_decomp_fc_Omega_Omega_d_frac,digits = 3))"
   ]
  },
  {
   "cell_type": "markdown",
   "metadata": {},
   "source": [
    "#### Indirect effect on exporter entry: $\\bar{U}_{1} \\frac{\\partial f_c}{\\partial \\hat{z}} \\frac{\\mathrm{d}  f_{\\hat{z}} }{\\mathrm{d} d}$"
   ]
  },
  {
   "cell_type": "code",
   "execution_count": 38,
   "metadata": {},
   "outputs": [
    {
     "name": "stdout",
     "output_type": "stream",
     "text": [
      "Indirect effect on exporter entry (in percent): 0.0\n"
     ]
    }
   ],
   "source": [
    "println(\"Indirect effect on exporter entry (in percent): \", round(100*tot_d.U1_decomp_fc_zhat_zhat_d_frac,digits = 3))"
   ]
  },
  {
   "cell_type": "markdown",
   "metadata": {},
   "source": [
    "#### Indirect effect on growth: $\\bar{U}_{1} \\frac{\\partial f_c}{\\partial g} \\frac{\\mathrm{d} f_{g} }{\\mathrm{d} d}$"
   ]
  },
  {
   "cell_type": "code",
   "execution_count": 39,
   "metadata": {},
   "outputs": [
    {
     "name": "stdout",
     "output_type": "stream",
     "text": [
      "Indirect effect on growth (in percent): -9.904\n"
     ]
    }
   ],
   "source": [
    "println(\"Indirect effect on growth (in percent): \", round(100*tot_d.U1_decomp_fc_g_g_d_frac,digits = 3))"
   ]
  },
  {
   "cell_type": "markdown",
   "metadata": {},
   "source": [
    "#### Direct effect on growth: $\\bar{U}_{2} \\frac{\\mathrm{d} f_g}{\\mathrm{d} d}$"
   ]
  },
  {
   "cell_type": "code",
   "execution_count": 40,
   "metadata": {},
   "outputs": [
    {
     "name": "stdout",
     "output_type": "stream",
     "text": [
      "Indirect effect on growth (in percent): 108.863\n"
     ]
    }
   ],
   "source": [
    "println(\"Indirect effect on growth (in percent): \", round(100*tot_d.U2_decomp_g_d_frac,digits = 3))"
   ]
  },
  {
   "cell_type": "markdown",
   "metadata": {},
   "source": [
    "#### Commentary (from paper)\n",
    "\n",
    "First note that the direct effect of a change in trade costs on the consumption level accounts for 8.32 percent of the gains from trade. The next three components are the indirect effects of trade costs on consumption through changes in variety, the exporter threshold, and growth. The indirect effects on consumption of changes in variety (-7.28%) and growth (-9.90%) both reduce the gains from trade. The exporter margin effect is zero. The final term represents the main source of the gains from trade—the direct effect on growth (108.86%)."
   ]
  },
  {
   "cell_type": "markdown",
   "metadata": {},
   "source": [
    "---\n",
    "### <a name=\"how\"></a> How Inefficient is the Decentralized Equilibrium?\n",
    "\n",
    "The indirect effect and direct effect on growth can be rearranged as:\n",
    "\n",
    "$\\left[ \\bar{U}_{1} \\frac{\\partial f_c}{\\partial g} + \\bar{U}_{2}\\right]  \\frac{\\mathrm{d} f_{g} }{\\mathrm{d} d}$\n",
    "\n",
    "The results above show that this term contributes about 100 percent to the welfare gains from trade. This term could be large for two reasons: (i) the economy is very inefficient or (ii) because the economy has a large elasticity\n",
    "of growth to trade costs.\n",
    "\n",
    "To determine the reason growth contributes so much to the total welfare gains, we first translate terms into consumption equivalent units by multiplying by the time discount rate."
   ]
  },
  {
   "cell_type": "markdown",
   "metadata": {},
   "source": [
    "#### Inefficiency term: $\\rho \\left[\\bar{U}_{1} \\frac{\\partial f_c}{\\partial g} + \\bar{U}_{2}\\right]$"
   ]
  },
  {
   "cell_type": "code",
   "execution_count": 68,
   "metadata": {},
   "outputs": [
    {
     "name": "stdout",
     "output_type": "stream",
     "text": [
      "Inefficiency term (CE units, percent of increase): 44.696\n"
     ]
    }
   ],
   "source": [
    "println(\"Inefficiency term (CE units, percent of increase): \", round(tot_d.planner_0_g_CE,digits = 3))"
   ]
  },
  {
   "cell_type": "markdown",
   "metadata": {},
   "source": [
    "A useful benchmark to discuss the size of this inefficiency is a comparison with an exogenous increase in growth that does not require resources to be drawn away from other activities. In steady state, an exogenous increase in growth of $\\mathrm{d}g$—leaving the level of consumption unchanged—would increase consumption equivalent utility by $\\frac{\\mathrm{d}g}{\\rho}$"
   ]
  },
  {
   "cell_type": "markdown",
   "metadata": {},
   "source": [
    "#### Free Growth: $\\frac{\\mathrm{d}g}{\\rho}$"
   ]
  },
  {
   "cell_type": "code",
   "execution_count": 42,
   "metadata": {},
   "outputs": [
    {
     "name": "stdout",
     "output_type": "stream",
     "text": [
      "Inefficiency term (CE units, percent increase): 49.169\n"
     ]
    }
   ],
   "source": [
    "println(\"Inefficiency term (CE units, percent increase): \", round(tot_d.MU_g_CE,digits = 3))"
   ]
  },
  {
   "cell_type": "markdown",
   "metadata": {},
   "source": [
    "A one percentage point increase in “free” growth generates a 49.2 percent increase in consumption equivalent welfare. This is close to the increase that can be achieved by reallocating resources away from the production of goods towards investment in growth, suggesting the degree of inefficiency is large."
   ]
  },
  {
   "cell_type": "markdown",
   "metadata": {},
   "source": [
    "#### Semi-Elasticity of Growth: $\\frac{\\mathrm{d} f_{g} }{\\mathrm{d} d}$\n",
    "\n",
    "In addition to an inefficienct amount of growth, another reason the total gains may be dominated by growth terms is because growth could be very sensetive to changes in trade costs. In the model, the semi-elasticity is"
   ]
  },
  {
   "cell_type": "code",
   "execution_count": 43,
   "metadata": {},
   "outputs": [
    {
     "name": "stdout",
     "output_type": "stream",
     "text": [
      "Semi-Elasticity of Growth: -2.828\n"
     ]
    }
   ],
   "source": [
    "println(\"Semi-Elasticity of Growth: \", round(100*tot_d.semi_elasticity_g_d ,digits = 3))"
   ]
  },
  {
   "cell_type": "markdown",
   "metadata": {},
   "source": [
    "Extrapolating using this local elasticity, the ten percent reduction in trade costs that we explore in Section 7-4 increases growth by approximately 0.19 percentage points. We do not have strong evidence regarding the plausibility of this semi-elasticity value. As a point of comparison, we compute the average productivity growth for non-overlapping decades in the U.S. from 1950-2017. The standard deviation of those decadal averages is 0.78. \n",
    "\n",
    "The notebook ``[section_7-1.ipynb](section_7-1.ipynb)`` computes this value and saves it. Below we load the saved value for ease of analyis."
   ]
  },
  {
   "cell_type": "code",
   "execution_count": 67,
   "metadata": {},
   "outputs": [
    {
     "name": "stdout",
     "output_type": "stream",
     "text": [
      "Standard deviation of decadal average growth: 0.78\n"
     ]
    }
   ],
   "source": [
    "temp = CSV.read(\"./src/calibration/data/dec_std_avg.csv\", datarow=1);\n",
    "println(\"Standard deviation of decadal average growth: \", round(temp[1, 1], digits = 2))"
   ]
  },
  {
   "cell_type": "markdown",
   "metadata": {},
   "source": [
    "Thus, movements in the growth rate that we study in our counterfactual welfare analysis are well within the range of historical variation in the long-run aggregate productivity growth rate."
   ]
  },
  {
   "cell_type": "markdown",
   "metadata": {},
   "source": [
    "---\n",
    "### <a name=\"acr\"></a> ACR Comparision\n",
    "\n",
    "Here we show that, quantitatively, the formula of ACR applied in our framework closely corresponds to the direct effect on consumption $\\left(\\rho \\bar{U}_{1} \\frac{\\partial f_c}{\\partial d}\\right)$ expressed in consumption units. We report the ratio of the consumption-equivalent direct consumption effect to the ACR-formula welfare effect:"
   ]
  },
  {
   "cell_type": "code",
   "execution_count": 44,
   "metadata": {},
   "outputs": [
    {
     "name": "stdout",
     "output_type": "stream",
     "text": [
      "Direct Consumption effect as percent of ACR: 98.81\n"
     ]
    }
   ],
   "source": [
    "println(\"Direct Consumption effect as percent of ACR: \", round(100*tot_d.U1_partial_fc_d_ACRfrac,digits = 2))"
   ]
  }
 ],
 "metadata": {
  "kernelspec": {
   "display_name": "Julia 1.4.0",
   "language": "julia",
   "name": "julia-1.4"
  },
  "language_info": {
   "file_extension": ".jl",
   "mimetype": "application/julia",
   "name": "julia",
   "version": "1.4.0"
  }
 },
 "nbformat": 4,
 "nbformat_minor": 4
}
