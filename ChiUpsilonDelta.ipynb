{
 "cells": [
  {
   "cell_type": "markdown",
   "metadata": {},
   "source": [
    "## Section 7.5 Chi and Welfare Decomposition\n",
    "\n",
    "Main file to compute the local decomposition of welfare into different components. Organized in the following way:\n",
    "\n",
    "- [Baseline](#base)\n",
    "\n",
    "- [Large Chi](#large)\n",
    "\n",
    "- [Small Chi](#small)"
   ]
  },
  {
   "cell_type": "code",
   "execution_count": 26,
   "metadata": {
    "scrolled": true
   },
   "outputs": [],
   "source": [
    "using PerlaTonettiWaugh"
   ]
  },
  {
   "cell_type": "markdown",
   "metadata": {},
   "source": [
    "### <a name=\"base\"></a> Baseline Values"
   ]
  },
  {
   "cell_type": "code",
   "execution_count": 27,
   "metadata": {},
   "outputs": [],
   "source": [
    "params = load_parameters(\"parameters/calibration_params.csv\") \n",
    "# settins for numerically computing the derivative\n",
    "d_baseline = params.d_0\n",
    "ϵ = 0.000001\n",
    "d_ϵ = d_baseline + ϵ;"
   ]
  },
  {
   "cell_type": "code",
   "execution_count": 28,
   "metadata": {},
   "outputs": [],
   "source": [
    "params_baseline_1 = merge(params, (d = params.d_0,))\n",
    "baseline_sol = stationary_algebraic(params_baseline_1, settings_defaults());"
   ]
  },
  {
   "cell_type": "code",
   "execution_count": 29,
   "metadata": {},
   "outputs": [
    {
     "name": "stdout",
     "output_type": "stream",
     "text": [
      "-------------------------------------------------------------------------\n",
      "\n",
      "Baseline\n",
      "Growth in Baseline: 0.79\n"
     ]
    }
   ],
   "source": [
    "println(\"-------------------------------------------------------------------------\")\n",
    "println(\"\")\n",
    "println(\"Baseline\")\n",
    "println(\"Growth in Baseline: \", round(100*baseline_sol.g, digits = 2))"
   ]
  },
  {
   "cell_type": "code",
   "execution_count": 30,
   "metadata": {},
   "outputs": [],
   "source": [
    "tot_d = total_derivative(params_baseline_1, ϵ);"
   ]
  },
  {
   "cell_type": "markdown",
   "metadata": {},
   "source": [
    "#### Inefficincy term $\\rho \\left[\\bar{U}_{1} \\frac{\\partial f_c}{\\partial g} + \\bar{U}_{2}\\right]$ vs. Semi-Elasticity of Growth: $\\frac{\\mathrm{d} f_{g} }{\\mathrm{d} d}$"
   ]
  },
  {
   "cell_type": "code",
   "execution_count": 31,
   "metadata": {},
   "outputs": [
    {
     "name": "stdout",
     "output_type": "stream",
     "text": [
      "Baseline Inefficincy term (CE units, percent of increase): 44.696\n",
      "Baseline Semi-Elasticity of Growth: -2.828\n"
     ]
    }
   ],
   "source": [
    "println(\"Baseline Inefficincy term (CE units, percent of increase): \", round(tot_d.planner_0_g_CE,digits = 3))\n",
    "println(\"Baseline Semi-Elasticity of Growth: \", round(100*tot_d.semi_elasticity_g_d ,digits = 3))"
   ]
  },
  {
   "cell_type": "markdown",
   "metadata": {},
   "source": [
    "---\n",
    "### <a name=\"large\"></a> Large $\\chi$ Case"
   ]
  },
  {
   "cell_type": "code",
   "execution_count": 32,
   "metadata": {},
   "outputs": [],
   "source": [
    "params = load_parameters(\"parameters/calibration_chi_0.14.csv\")\n",
    "# settins for numerically computing the derivative\n",
    "d_baseline = params.d_0\n",
    "ϵ = 0.000001\n",
    "d_ϵ = d_baseline + ϵ;"
   ]
  },
  {
   "cell_type": "code",
   "execution_count": 33,
   "metadata": {},
   "outputs": [],
   "source": [
    "params_baseline_1 = merge(params, (d = params.d_0,))\n",
    "baseline_sol = stationary_algebraic(params_baseline_1, settings_defaults());"
   ]
  },
  {
   "cell_type": "code",
   "execution_count": 34,
   "metadata": {},
   "outputs": [
    {
     "name": "stdout",
     "output_type": "stream",
     "text": [
      "-------------------------------------------------------------------------\n",
      "\n",
      "Large Chi case\n",
      "Growth in Large Chi case: 0.8\n"
     ]
    }
   ],
   "source": [
    "println(\"-------------------------------------------------------------------------\")\n",
    "println(\"\")\n",
    "println(\"Large Chi case\")\n",
    "println(\"Growth in Large Chi case: \", round(100*baseline_sol.g, digits = 2))"
   ]
  },
  {
   "cell_type": "code",
   "execution_count": 35,
   "metadata": {},
   "outputs": [],
   "source": [
    "tot_d = total_derivative(params_baseline_1, ϵ);"
   ]
  },
  {
   "cell_type": "markdown",
   "metadata": {},
   "source": [
    "#### Inefficincy term $\\rho \\left[\\bar{U}_{1} \\frac{\\partial f_c}{\\partial g} + \\bar{U}_{2}\\right]$ vs. Semi-Elasticity of Growth: $\\frac{\\mathrm{d} f_{g} }{\\mathrm{d} d}$"
   ]
  },
  {
   "cell_type": "code",
   "execution_count": 36,
   "metadata": {},
   "outputs": [
    {
     "name": "stdout",
     "output_type": "stream",
     "text": [
      "Large Chi Inefficincy term (CE units, percent of increase): 44.125\n",
      "Large Chi Semi-Elasticity of Growth: -2.136\n"
     ]
    }
   ],
   "source": [
    "println(\"Large Chi Inefficincy term (CE units, percent of increase): \", round(tot_d.planner_0_g_CE,digits = 3))\n",
    "println(\"Large Chi Semi-Elasticity of Growth: \", round(100*tot_d.semi_elasticity_g_d ,digits = 3))"
   ]
  },
  {
   "cell_type": "markdown",
   "metadata": {},
   "source": [
    "---\n",
    "### <a name=\"small\"></a> Small $\\chi$ Case"
   ]
  },
  {
   "cell_type": "code",
   "execution_count": 37,
   "metadata": {},
   "outputs": [],
   "source": [
    "params = load_parameters(\"parameters/calibration_chi_0.12.csv\")\n",
    "# settins for numerically computing the derivative\n",
    "d_baseline = params.d_0\n",
    "ϵ = 0.000001\n",
    "d_ϵ = d_baseline + ϵ;"
   ]
  },
  {
   "cell_type": "code",
   "execution_count": 38,
   "metadata": {},
   "outputs": [],
   "source": [
    "params_baseline_1 = merge(params, (d = params.d_0,))\n",
    "baseline_sol = stationary_algebraic(params_baseline_1, settings_defaults());"
   ]
  },
  {
   "cell_type": "code",
   "execution_count": 39,
   "metadata": {},
   "outputs": [
    {
     "name": "stdout",
     "output_type": "stream",
     "text": [
      "-------------------------------------------------------------------------\n",
      "\n",
      "Small Chi case\n",
      "Growth in Small Chi case: 0.79\n"
     ]
    }
   ],
   "source": [
    "println(\"-------------------------------------------------------------------------\")\n",
    "println(\"\")\n",
    "println(\"Small Chi case\")\n",
    "println(\"Growth in Small Chi case: \", round(100*baseline_sol.g, digits = 2))"
   ]
  },
  {
   "cell_type": "code",
   "execution_count": 40,
   "metadata": {},
   "outputs": [],
   "source": [
    "tot_d = total_derivative(params_baseline_1, ϵ);"
   ]
  },
  {
   "cell_type": "markdown",
   "metadata": {},
   "source": [
    "#### Inefficincy term $\\rho \\left[\\bar{U}_{1} \\frac{\\partial f_c}{\\partial g} + \\bar{U}_{2}\\right]$ vs. Semi-Elasticity of Growth: $\\frac{\\mathrm{d} f_{g} }{\\mathrm{d} d}$"
   ]
  },
  {
   "cell_type": "code",
   "execution_count": 41,
   "metadata": {},
   "outputs": [
    {
     "name": "stdout",
     "output_type": "stream",
     "text": [
      "Small Chi Inefficincy term (CE units, percent of increase): 45.145\n",
      "Small Chi Semi-Elasticity of Growth: -3.63\n"
     ]
    }
   ],
   "source": [
    "println(\"Small Chi Inefficincy term (CE units, percent of increase): \", round(tot_d.planner_0_g_CE,digits = 3))\n",
    "println(\"Small Chi Semi-Elasticity of Growth: \", round(100*tot_d.semi_elasticity_g_d ,digits = 3))"
   ]
  },
  {
   "cell_type": "markdown",
   "metadata": {},
   "source": [
    "\n",
    "\n",
    "\n",
    "\n",
    "\n",
    "\n",
    "\n",
    "\n",
    "\n",
    "---\n",
    "#### Additional Stuff"
   ]
  },
  {
   "cell_type": "code",
   "execution_count": 19,
   "metadata": {},
   "outputs": [],
   "source": [
    "# chi large \n",
    "#@show partial_g_d_ChiLargeRatio = tot_der_2.∂_g_d/tot_der_1.∂_g_d\n",
    "#@show planner_0_g_ChiLargeRatio = tot_der_2.planner_0_g_CE/tot_der_1.planner_0_g_CE\n",
    "#@show Inefficiency_ChiLargeRatio = tot_der_2.∂_g_d*(tot_der_2.U_1*tot_der_2.∂_fc_g + tot_der_2.U_2)/(tot_der_1.∂_g_d*(tot_der_1.U_1*tot_der_1.∂_fc_g + tot_der_1.U_2));"
   ]
  },
  {
   "cell_type": "code",
   "execution_count": 20,
   "metadata": {},
   "outputs": [],
   "source": [
    "# chi small \n",
    "#@show partial_g_d_ChiSmallRatio = tot_der_3.∂_g_d/tot_der_1.∂_g_d\n",
    "#@show planner_0_g_ChiSmallRatio = tot_der_3.planner_0_g_CE/tot_der_1.planner_0_g_CE\n",
    "#@show Inefficiency_ChiSmallRatio = tot_der_3.∂_g_d*(tot_der_3.U_1*tot_der_3.∂_fc_g + tot_der_3.U_2)/(tot_der_1.∂_g_d*(tot_der_1.U_1*tot_der_1.∂_fc_g + tot_der_1.U_2));"
   ]
  },
  {
   "cell_type": "code",
   "execution_count": null,
   "metadata": {},
   "outputs": [],
   "source": []
  }
 ],
 "metadata": {
  "kernelspec": {
   "display_name": "Julia 1.4.0",
   "language": "julia",
   "name": "julia-1.4"
  },
  "language_info": {
   "file_extension": ".jl",
   "mimetype": "application/julia",
   "name": "julia",
   "version": "1.4.0"
  }
 },
 "nbformat": 4,
 "nbformat_minor": 4
}
