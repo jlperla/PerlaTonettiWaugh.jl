{
 "cells": [
  {
   "cell_type": "markdown",
   "metadata": {},
   "source": [
    "---\n",
    "### [Equilibrium Technology Diffusion, Trade, and Growth](https://christophertonetti.com/files/papers/PerlaTonettiWaugh_DiffusionTradeAndGrowth.pdf) by Perla, Tonetti, and Waugh (AER 2020)\n",
    "\n",
    "### 7.2. Calibration Results\n",
    "\n",
    "Table of Contents\n",
    "\n",
    "- [MATLAB calibration routine](#cal)\n",
    "\n",
    "- [Zeta normalization analysis](#zeta)"
   ]
  },
  {
   "cell_type": "code",
   "execution_count": 6,
   "metadata": {},
   "outputs": [],
   "source": [
   "# Set your paths appropriately for your configuration.\n",
    "julia_path = '''C:\\\\Users\\\\mwaugh\\\\AppData\\\\Local\\\\Programs\\\\Julia\\\\Julia-1.4.0\\\\bin\\\\julia.exe'''\n",
    "\n",
    "matlab_path = '''matlab'''\n",
    "# This assumes that Matlab is in your path. If not then direct it to\n",
    "# program files / matlab / version/ bin/ matlab.exe\n",
    "# needs to be in triple quotes"
   ]
  },
  {
   "cell_type": "markdown",
   "metadata": {},
   "source": [
    "---\n",
    "### <a name=\"cal\"></a> Calibration Routine\n",
    "\n",
    "The code below accesses the commandline/terminal and then directly executes the MATLAB code. It assumes that (i) you have a working installation of MATLAB and (ii) that it is in your path. Make sure directories are consistent with your configuration.\n",
    "\n",
    "The resulting parameter values are outputed to [``/parameters/calibration_params.csv``](/parameters/calibration_params.csv)\n",
    "\n",
    "The underlying MATLAB code is described (with links to the relevant ``.m`` files) in the [readme file in the calibraiton folder](/src/calibration/README.md)."
   ]
  },
  {
   "cell_type": "code",
   "execution_count": 7,
   "metadata": {},
   "outputs": [],
   "source": [
    "matlab_cmd = '''\"cd('src\\calibration');calibrate_wrap;\"'''\n",
    "# cd command changes the working directory\n",
    "# then we call the function, in this case calibrate_wrap\n",
    "# needs to be in triple quotes "
   ]
  },
  {
   "cell_type": "code",
   "execution_count": 8,
   "metadata": {},
   "outputs": [
    {
     "name": "stdout",
     "output_type": "stream",
     "text": [
      "   20-Apr-2020\n",
      "\n",
      "Calibration Targets...\n",
      "Real Rate and Productivity Growth\n",
      "    0.0283    0.0079\n",
      "\n",
      "BEJK Exporter Moments: Fraction of Exporters, Relative Size\n",
      "    0.0330    4.8000\n",
      "\n",
      "Home Trade Share\n",
      "    0.8937\n",
      "\n",
      "Entry Moment\n",
      "    0.0200\n",
      "\n",
      "Firm Moments (LHS Table 3)\n",
      "    0.5010    0.2700    0.1360    0.0940\n",
      "    0.1610    0.2850    0.2900    0.2600\n",
      "\n",
      "%%%%%%%%%%%%%%%%%%%%%%%%%%%%%%%%%%%%%%%%%%%%%%%%%%%%%%%%%%%%%%%%%%%%%%%%%%%\n",
      " \n",
      "Optimization terminated:\n",
      " the current x satisfies the termination criteria using OPTIONS.TolX of 1.000000e-04 \n",
      " and F(X) satisfies the convergence criteria using OPTIONS.TolFun of 1.000000e-04 \n",
      "\n",
      "Elapsed time is 39.050084 seconds.\n",
      "    0.0037\n",
      "\n",
      "%%%%%%%%%%%%%%%%%%%%%%%%%%%%%%%%%%%%%%%%%%%%%%%%%%%%%%%%%%%%%%%%%%%%%%%%%%%\n",
      "Calibration Results\n",
      "Parameter Values\n",
      "d, theta, kappa, 1/chi, mu, upsilon, sigma, delta, rho\n",
      "    3.0225    4.9890    0.1042    7.8835   -0.0311    0.0483    3.1669    0.0200    0.0203\n",
      "\n",
      "%%%%%%%%%%%%%%%%%%%%%%%%%%%%%%%%%%%%%%%%%%%%%%%%%%%%%%%%%%%%%%%%%%%%%%%%%%%\n",
      "Moments: Model\n",
      "Real Rate and Productivity Growth\n",
      "    0.0283    0.0079\n",
      "\n",
      "BEJK Exporter Moments: Fraction of Exporters, Relative Size\n",
      "    0.0330    4.7999\n",
      "\n",
      "Home Trade Share\n",
      "    0.8937\n",
      "\n",
      "Entry Moment\n",
      "    0.0200\n",
      "\n",
      "Firm Moments (RHS Table 3)\n",
      "    0.4573    0.3148    0.1418    0.0861\n",
      "    0.1706    0.2883    0.2823    0.2587\n",
      "\n",
      "%%%%%%%%%%%%%%%%%%%%%%%%%%%%%%%%%%%%%%%%%%%%%%%%%%%%%%%%%%%%%%%%%%%%%%%%%%%\n",
      "Correlation Model and Data Firm Moments\n",
      "    0.9831\n",
      "\n"
     ]
    }
   ],
   "source": [
    "!{matlab_path} -batch {matlab_cmd}\n",
    "\n",
    "# The ! command passes instructions to the command prompt\n",
    "# or terminal. The {} braces remove the triple quotes\n",
    "# -batch runs the code in the background, i.e., no matlab\n",
    "# terminal is opened. It will autormatically exit and close matlab when finished.\n",
    "# The next {} is a function call to matlab"
   ]
  },
  {
   "cell_type": "markdown",
   "metadata": {},
   "source": [
    "Again, output is saved to [``/parameters/calibration_params.csv``](/parameters/calibration_params.csv). This file contains the calibrated parameter values, with column headers that identify the associated parameter. The order in which parameters are listed should be the same as in [``/src/full/params.jl``](/src/full/params.jl).\n",
    "\n",
    "#### Brief Commentary (taken from the paper)\n",
    "\n",
    "In terms of fit, the aggregate moments (real rate and productivity growth), the exporter facts, and the employment share of entrants match\n",
    "the data exactly. While not perfect, the model\n",
    "replicates the dynamics of firms well. The correlation between the model and the data is extremely high at 0.98."
   ]
  },
  {
   "cell_type": "markdown",
   "metadata": {},
   "source": [
    "---\n",
    "### <a name=\"zeta\"></a> Zeta Normalization Analysis\n",
    "\n",
    "In Section 7.2, we discuss our normalization of zeta and how our results do not depend on the particular normalization. We repeate the discussion here:\n",
    "\n",
    "As stated earlier, we set ζ = 1 as a normalization. Several comments are in order regarding this normalization. First, calibrating the model with a different normalization results in identical parameter values for all parameters except κ. In the theoretical analysis, equations (33) and (35) show that ζ only appears in the form ζ/κ. Thus, a different choice of ζ results in a different κ to match the g and λii moments.\n",
    "Different normalizations do lead to a different amount of variety as equation (48) shows. However, as equation (53) shows, any combination of ζ and κ results in the same welfare gains from trade as long as λ_ii and all other parameter values are equal. It is in this sense that ζ = 1 is a normalization. Numerical analysis of the quantitative model confirms these observations both for steady-state comparative statics\n",
    "and for the analysis of transition dynamics.\n",
    "\n",
	"Here are the computations that demonstrate that result.\n",
    "\n",
    "#### Calibration under alternative ζ"
   ]
  },
  {
   "cell_type": "code",
   "execution_count": 9,
   "metadata": {},
   "outputs": [],
   "source": [
    "matlab_cmd = '''\"cd('src\\calibration');calibrate_wrap_zeta;\"'''\n",
    "# cd to the working directory and run calibrate_wrape_zeta\n",
    "# needs to be in triple quotes "
   ]
  },
  {
   "cell_type": "code",
   "execution_count": 10,
   "metadata": {},
   "outputs": [
    {
     "name": "stdout",
     "output_type": "stream",
     "text": [
      "Calbirated values computed on date\n",
      "   20-Apr-2020\n",
      "\n",
      "Calibration with different zetas\n",
      "Zeta Value\n",
      "    0.7500\n",
      "\n",
      " \n",
      "Optimization terminated:\n",
      " the current x satisfies the termination criteria using OPTIONS.TolX of 1.000000e-04 \n",
      " and F(X) satisfies the convergence criteria using OPTIONS.TolFun of 1.000000e-04 \n",
      "\n",
      "Elapsed time is 37.550956 seconds.\n",
      "Parameter Values\n",
      "d, theta, kappa, 1/chi, mu, upsilon, sigma, delta, rho, zeta\n",
      "    3.0225    4.9890    0.0781    7.8835   -0.0311    0.0483    3.1669    0.0200    0.0203    0.7500\n",
      "\n",
      "zeta/kappa\n",
      "    9.5973\n",
      "\n",
      "%%%%%%%%%%%%%%%%%%%%%%%%%%%%%%%%%%%%%%%%%%%%%%%%%%%%%%%%%%%%%%%%%%%%%%%%%%%\n",
      "Moments: Model Alt Zetas\n",
      "Calibration Targets...\n",
      "Real Rate and Productivity Growth\n",
      "    0.0283    0.0079\n",
      "\n",
      "BEJK Exporter Moments: Fraction of Exporters, Relative Size\n",
      "    0.0330    4.7999\n",
      "\n",
      "Home Trade Share\n",
      "    0.8937\n",
      "\n",
      "Entry Moment\n",
      "    0.0200\n",
      "\n",
      "Firm Moments\n",
      "    0.2587    0.2883    0.0861    0.3148\n",
      "    0.2823    0.1706    0.1418    0.4573\n",
      "\n",
      "%%%%%%%%%%%%%%%%%%%%%%%%%%%%%%%%%%%%%%%%%%%%%%%%%%%%%%%%%%%%%%%%%%%%%%%%%%%\n",
      "Zeta Value\n",
      "    1.2500\n",
      "\n",
      " \n",
      "Optimization terminated:\n",
      " the current x satisfies the termination criteria using OPTIONS.TolX of 1.000000e-04 \n",
      " and F(X) satisfies the convergence criteria using OPTIONS.TolFun of 1.000000e-04 \n",
      "\n",
      "Elapsed time is 39.943687 seconds.\n",
      "Parameter Values\n",
      "d, theta, kappa, 1/chi, mu, upsilon, sigma, delta, rho, zeta\n",
      "    3.0225    4.9890    0.1302    7.8835   -0.0311    0.0483    3.1669    0.0200    0.0203    1.2500\n",
      "\n",
      "zeta/kappa\n",
      "    9.5973\n",
      "\n",
      "%%%%%%%%%%%%%%%%%%%%%%%%%%%%%%%%%%%%%%%%%%%%%%%%%%%%%%%%%%%%%%%%%%%%%%%%%%%\n",
      "Moments: Model Alt Zetas\n",
      "Calibration Targets...\n",
      "Real Rate and Productivity Growth\n",
      "    0.0283    0.0079\n",
      "\n",
      "BEJK Exporter Moments: Fraction of Exporters, Relative Size\n",
      "    0.0330    4.7999\n",
      "\n",
      "Home Trade Share\n",
      "    0.8937\n",
      "\n",
      "Entry Moment\n",
      "    0.0200\n",
      "\n",
      "Firm Moments\n",
      "    0.2587    0.2883    0.0861    0.3148\n",
      "    0.2823    0.1706    0.1418    0.4573\n",
      "\n",
      "%%%%%%%%%%%%%%%%%%%%%%%%%%%%%%%%%%%%%%%%%%%%%%%%%%%%%%%%%%%%%%%%%%%%%%%%%%%\n"
     ]
    }
   ],
   "source": [
    "!{matlab_path} -batch {matlab_cmd}"
   ]
  },
  {
   "cell_type": "markdown",
   "metadata": {},
   "source": [
    "The calibrated parameter values are saved to [``/parameters/calibration_zeta_X.XX.csv``](/parameters). The XX at the end of each ``.csv`` filename denots the value of zeta associated with that calibration. Headers identify the parameters, order should be the same as in [``/src/full/params.jl``](/src/full/params.jl).\n",
    "\n",
    "#### Brief Commentary\n",
    "\n",
    "Per our claim in the paper: The calibration results for alternative ζ lead to (i) the same exact fit (ii) the same exact parameter values for all parameters except kappa and (iii) the ratio of zeta/kappa is always the same (9.5973)\n",
    "\n",
    "The next set of code [``ZetaNormalization.ipynb``](ZetaNormalization.ipynb) uses the calibrated parameter values for alternative ζ and confirms that the choice of ζ normalization also does not affect our counterfactuals and welfare analysis.\n",
    "\n",
    "#### Alternative ζ: Counterfactuals and Welfare."
   ]
  },
  {
   "cell_type": "code",
   "execution_count": 11,
   "metadata": {},
   "outputs": [
    {
     "name": "stderr",
     "output_type": "stream",
     "text": [
      "[NbConvertApp] Converting notebook ZetaNormalization.ipynb to script\n",
      "[NbConvertApp] Writing 3699 bytes to ZetaNormalization.jl\n"
     ]
    },
    {
     "name": "stdout",
     "output_type": "stream",
     "text": [
      "-------------------------------------------------------------------------\n",
      "Printing out pramater, Zeta = 1\n",
      "Baseline (Zeta = 1) vs. 10% Lower Trade Costs\n",
      "\n",
      "\n",
      "Change in Growth, Steady State to Steady State\n",
      "Growth in Baseline: 0.79\n",
      "Growth in New SS: 1.03\n",
      "\n",
      "\n",
      "Zeta = 1 Imports/GDP, Steady State to Steady State\n",
      "Imports/GDP in Baseline: 10.6\n",
      "Imports/GDP in New SS: 14.4\n",
      "\n",
      "\n",
      "Zeta = 1 Consumption Equivalent Welfare Gain, Steady State to Steady State\n",
      "Zeta = 1, CE gains: 11.2\n",
      "\n",
      "-------------------------------------------------------------------------\n",
      "Printing out pramater, Zeta = 0.75\n",
      "Zeta = 0.75 vs. 10% Lower Trade Costs\n",
      "\n",
      "\n",
      "Change in Growth, Steady State to Steady State\n",
      "Growth with Zeta = 0.75:  0.79\n",
      "Growth in New SS:  1.03\n",
      "\n",
      "\n",
      "Zeta = 0.75, Imports/GDP, Steady State to Steady State\n",
      "Imports/GDP,  Zeta = 0.75: 10.6\n",
      "Imports/GDP in New SS: 14.4\n",
      "\n",
      "\n",
      "Zeta = 0.75 Consumption Equivalent Welfare Gain, Steady State to Steady State\n",
      "Zeta = 0.75 CE gains: 11.2\n",
      "\n",
      "-------------------------------------------------------------------------\n",
      "Printing out pramater, Zeta = 1.25\n",
      "Zeta = 1.25 vs. 10% Lower Trade Costs\n",
      "\n",
      "\n",
      "Change in Growth, Steady State to Steady State\n",
      "Growth in Zeta = 1.25: 0.79\n",
      "Growth in New SS: 1.03\n",
      "\n",
      "\n",
      "Zeta = 1.25 Imports/GDP, Steady State to Steady State\n",
      "Imports/GDP in Zeta = 1.25: 10.6\n",
      "Imports/GDP in New SS: 14.4\n",
      "\n",
      "\n",
      "Zeta = 1.25 Consumption Equivalent Welfare Gain, Steady State to Steady State\n",
      "Zeta = 1.25 CE gains: 11.2\n",
      "\n"
     ]
    }
   ],
   "source": [
    "!jupyter nbconvert --to script ZetaNormalization.ipynb\n",
    "\n",
    "julia_command = '''ZetaNormalization.jl'''\n",
    "\n",
    "!{julia_path} {julia_command}"
   ]
  },
  {
   "cell_type": "markdown",
   "metadata": {},
   "source": [
    "These results show that across ζ values: (i) the initial allocations for growth and trade are the same, (ii) the change in growth and trade are the same, and (iii) the welfare gain is the same. "
   ]
  }
 ],
 "metadata": {
  "kernelspec": {
   "display_name": "Python 3",
   "language": "python",
   "name": "python3"
  },
  "language_info": {
   "codemirror_mode": {
    "name": "ipython",
    "version": 3
   },
   "file_extension": ".py",
   "mimetype": "text/x-python",
   "name": "python",
   "nbconvert_exporter": "python",
   "pygments_lexer": "ipython3",
   "version": "3.7.3"
  }
 },
 "nbformat": 4,
 "nbformat_minor": 4
}
