{
 "cells": [
  {
   "cell_type": "markdown",
   "metadata": {},
   "source": [
    "Read in baseline parameter values from  [``/parameters/calibration_params.csv``](/parameters/calibration_params.csv)"
   ]
  },
  {
   "cell_type": "code",
   "execution_count": 92,
   "metadata": {},
   "outputs": [
    {
     "name": "stdout",
     "output_type": "stream",
     "text": [
      "ρ = 0.0203380446685169\n",
      "σ = 3.16692413583811\n",
      "θ = 4.98897658793826\n",
      "κ = 0.104196324793307\n",
      "χ = 0.126846612050694\n",
      "μ = -0.0310646242175711\n",
      "υ = 0.0483011406016648\n",
      "ζ = 1\n",
      "δ = 0.02\n",
      "N = 10\n",
      "γ = 1\n",
      "η = 0\n",
      "Theta = 1\n",
      "d_0 = 3.0224928254626\n",
      "d_T = 2.82024354291634\n"
     ]
    }
   ],
   "source": [
    "using PerlaTonettiWaugh\n",
    "params = load_parameters(\"parameters/calibration_params.csv\")\n",
    "#for (k, v) in pairs(params)\n",
    "#    println(\"$k = $v\")\n",
    "#end"
   ]
  },
  {
   "cell_type": "markdown",
   "metadata": {},
   "source": [
    "---\n",
    "### Steady State to Steady State: Baseline vs. 10% Lower Trade Cost"
   ]
  },
  {
   "cell_type": "code",
   "execution_count": 2,
   "metadata": {},
   "outputs": [],
   "source": [
    "baseline = merge(params, (d = params.d_0,))\n",
    "baseline_sol = stationary_algebraic(baseline, settings_defaults());"
   ]
  },
  {
   "cell_type": "code",
   "execution_count": 3,
   "metadata": {},
   "outputs": [],
   "source": [
    "new_params = merge(params, (d = params.d_T,))\n",
    "new_sol = stationary_algebraic(new_params, settings_defaults());"
   ]
  },
  {
   "cell_type": "code",
   "execution_count": 23,
   "metadata": {},
   "outputs": [
    {
     "name": "stdout",
     "output_type": "stream",
     "text": [
      "\n",
      "-------------------------------------------------------------------------\n",
      "Baseline vs. 10% Lower Trade Costs\n",
      "Table 4\n"
     ]
    }
   ],
   "source": [
    "println(\"\")\n",
    "println(\"-------------------------------------------------------------------------\")\n",
    "println(\"Baseline vs. 10% Lower Trade Costs\")\n",
    "println(\"Table 4\")\n",
    "println(\"\")"
   ]
  },
  {
   "cell_type": "code",
   "execution_count": 93,
   "metadata": {},
   "outputs": [
    {
     "name": "stdout",
     "output_type": "stream",
     "text": [
      "Change in Growth, Steady State to Steady State\n",
      "\n",
      "\n",
      "Growth in Baseline: 0.79\n",
      "\n",
      "\n",
      "Growth in New SS: 1.03\n"
     ]
    }
   ],
   "source": [
    "println(\"\")\n",
    "println(\"Change in Growth, Steady State to Steady State\")\n",
    "println(\"Growth in Baseline: \", round(100*baseline_sol.g, digits=2))\n",
    "println(\"Growth in New SS: \", round(100*new_sol.g, digits=2))\n",
    "println(\"\")"
   ]
  },
  {
   "cell_type": "code",
   "execution_count": 13,
   "metadata": {},
   "outputs": [
    {
     "name": "stdout",
     "output_type": "stream",
     "text": [
      "Imports/GDP, Steady State to Steady State\n",
      "Imports/GDP in Baseline: 10.6\n",
      "Imports/GDP in New SS: 14.4"
     ]
    }
   ],
   "source": [
    "println(\"\")\n",
    "println(\"Imports/GDP, Steady State to Steady State\")\n",
    "println(\"Imports/GDP in Baseline: \", round(100*(1 - baseline_sol.λ_ii), digits=1))\n",
    "println(\"Imports/GDP in New SS: \", round(100*(1 - new_sol.λ_ii), digits=1))\n",
    "println(\"\")"
   ]
  },
  {
   "cell_type": "code",
   "execution_count": 10,
   "metadata": {},
   "outputs": [
    {
     "name": "stdout",
     "output_type": "stream",
     "text": [
      "Consumption Equivalent Welfare Gain, Steady State to Steady State\n",
      "CE gains: 11.2"
     ]
    }
   ],
   "source": [
    "ss_ce = 100*consumption_equivalent(new_sol.U_bar, baseline_sol.U_bar, params);\n",
    "println(\"\")\n",
    "println(\"Consumption Equivalent Welfare Gain, Steady State to Steady State\")\n",
    "println(\"CE gains: \", round(ss_ce, digits=1))\n",
    "println(\"\")"
   ]
  },
  {
   "cell_type": "markdown",
   "metadata": {},
   "source": [
    "---\n",
    "### Comparison to ACR calculation"
   ]
  },
  {
   "cell_type": "code",
   "execution_count": 17,
   "metadata": {},
   "outputs": [
    {
     "name": "stdout",
     "output_type": "stream",
     "text": [
      "ACR Formula Consumption Equivalent Welfare Gain\n",
      "ACR gains: 0.87"
     ]
    }
   ],
   "source": [
    "acr_ss = 100*ACR(new_sol.λ_ii, baseline_sol.λ_ii, params);\n",
    "println(\"\")\n",
    "println(\"ACR Formula Consumption Equivalent Welfare Gain\")\n",
    "println(\"ACR gains: \", round(acr_ss, digits=2))\n",
    "println(\"\")"
   ]
  },
  {
   "cell_type": "markdown",
   "metadata": {},
   "source": [
    "---\n",
    "### Baseline vs. Autarky"
   ]
  },
  {
   "cell_type": "code",
   "execution_count": 18,
   "metadata": {},
   "outputs": [],
   "source": [
    "d_T_autarky = (baseline.d-1).*2.90 + 1\n",
    "autarky_params = merge(params, (d = d_T_autarky,))\n",
    "autarky_sol = stationary_numerical(autarky_params, settings_defaults());"
   ]
  },
  {
   "cell_type": "code",
   "execution_count": 24,
   "metadata": {},
   "outputs": [
    {
     "name": "stdout",
     "output_type": "stream",
     "text": [
      "\n",
      "-------------------------------------------------------------------------\n",
      "Autarky Calculations\n"
     ]
    }
   ],
   "source": [
    "println(\"\")\n",
    "println(\"-------------------------------------------------------------------------\")\n",
    "println(\"Autarky Calculations\")\n",
    "println(\"\")"
   ]
  },
  {
   "cell_type": "code",
   "execution_count": 19,
   "metadata": {},
   "outputs": [
    {
     "name": "stdout",
     "output_type": "stream",
     "text": [
      "Autarky Consumption Equivalent Welfare Gain, Steady State to Steady State\n",
      "Autarky CE gains: -22.1"
     ]
    }
   ],
   "source": [
    "ss_ce = 100*consumption_equivalent(autarky_sol.U_bar, baseline_sol.U_bar, params);\n",
    "println(\"\")\n",
    "println(\"Autarky Consumption Equivalent Welfare Gain, Steady State to Steady State\")\n",
    "print(\"Autarky CE gains: \", round(ss_ce, digits=1))\n",
    "println(\"\")"
   ]
  },
  {
   "cell_type": "code",
   "execution_count": 20,
   "metadata": {},
   "outputs": [
    {
     "name": "stdout",
     "output_type": "stream",
     "text": [
      "Autarky ACR Formula Consumption Equivalent Welfare Gain\n",
      "Autarky ACR gains: -2.21"
     ]
    }
   ],
   "source": [
    "acr_ss = 100*ACR(autarky_sol.λ_ii, baseline_sol.λ_ii, params);\n",
    "println(\"\")\n",
    "println(\"Autarky ACR Formula Consumption Equivalent Welfare Gain\")\n",
    "println(\"Autarky ACR gains: \", round(acr_ss, digits=2))\n",
    "println(\"\")"
   ]
  },
  {
   "cell_type": "markdown",
   "metadata": {},
   "source": [
    "---\n",
    "### Sampson Comparison"
   ]
  },
  {
   "cell_type": "code",
   "execution_count": 80,
   "metadata": {},
   "outputs": [],
   "source": [
    "sampson_params = load_parameters(\"parameters/calibration_sampson.csv\")\n",
    "sampson_baseline = merge(sampson_params, (d = sampson_params.d_0,))\n",
    "sampson_baseline_sol = stationary_algebraic(sampson_baseline, settings_defaults());"
   ]
  },
  {
   "cell_type": "code",
   "execution_count": 81,
   "metadata": {},
   "outputs": [],
   "source": [
    "sampson_autarky = merge(sampson_params, (d =  (sampson_baseline.d-1).*2.90 + 1,))\n",
    "sampson_autarky_sol = stationary_numerical(sampson_autarky, settings_defaults());"
   ]
  },
  {
   "cell_type": "code",
   "execution_count": 82,
   "metadata": {},
   "outputs": [
    {
     "name": "stdout",
     "output_type": "stream",
     "text": [
      "\n",
      "-------------------------------------------------------------------------\n",
      "Sampson Calibration\n"
     ]
    }
   ],
   "source": [
    "println(\"\")\n",
    "println(\"-------------------------------------------------------------------------\")\n",
    "println(\"Sampson Calibration\")\n",
    "println(\"\")"
   ]
  },
  {
   "cell_type": "code",
   "execution_count": 83,
   "metadata": {},
   "outputs": [
    {
     "name": "stdout",
     "output_type": "stream",
     "text": [
      "Sampson Calibration, Change in Growth, Steady State to Steady State\n",
      "Growth in Baseline: 1.56\n",
      "Growth in New SS: 1.33"
     ]
    }
   ],
   "source": [
    "println(\"\")\n",
    "println(\"Sampson Calibration, Change in Growth, Steady State to Steady State\")\n",
    "println(\"Growth in Baseline: \", round(100*sampson_baseline_sol.g, digits=2))\n",
    "println(\"Growth in New SS (Autarky): \", round(100*sampson_autarky_sol.g, digits=2))"
   ]
  },
  {
   "cell_type": "code",
   "execution_count": 91,
   "metadata": {},
   "outputs": [
    {
     "name": "stdout",
     "output_type": "stream",
     "text": [
      "Sampson Calibration Consumption Equivalent Welfare Gain, Steady State to Steady State  (Autarky)\n",
      "CE gains: -3.3"
     ]
    }
   ],
   "source": [
    "ss_ce = 100*consumption_equivalent(sampson_autarky_sol.U_bar, sampson_baseline_sol.U_bar, sampson_params);\n",
    "println(\"\")\n",
    "println(\"Sampson Calibration Consumption Equivalent Welfare Gain, Steady State to Steady State  (Autarky)\")\n",
    "println(\"CE gains: \", round(ss_ce, digits=1))\n",
    "println(\"\")"
   ]
  },
  {
   "cell_type": "markdown",
   "metadata": {},
   "source": [
    "---\n",
    "### No GBM Firm Dynamics"
   ]
  },
  {
   "cell_type": "code",
   "execution_count": 86,
   "metadata": {},
   "outputs": [],
   "source": [
    "nogbm_params = load_parameters(\"parameters/calibration_no_firm_dynamics.csv\")\n",
    "nogbm_baseline = merge(nogbm_params, (d = nogbm_params.d_0,))\n",
    "nogbm_baseline_sol = stationary_algebraic(nogbm_baseline, settings_defaults());"
   ]
  },
  {
   "cell_type": "code",
   "execution_count": 87,
   "metadata": {},
   "outputs": [],
   "source": [
    "nogbm_autarky = merge(nogbm_params, (d = (nogbm_baseline.d-1).*2.90 + 1,))\n",
    "nogbm_autarky_sol = stationary_algebraic(nogbm_autarky, settings_defaults());"
   ]
  },
  {
   "cell_type": "code",
   "execution_count": null,
   "metadata": {},
   "outputs": [],
   "source": [
    "println(\"\")\n",
    "println(\"-------------------------------------------------------------------------\")\n",
    "println(\"No GBM Calibration\")"
   ]
  },
  {
   "cell_type": "code",
   "execution_count": 89,
   "metadata": {},
   "outputs": [
    {
     "name": "stdout",
     "output_type": "stream",
     "text": [
      "Sampson Calibration, Change in Growth, Steady State to Steady State\n",
      "Growth in Baseline: 0.79\n",
      "Growth in New SS: 0.63"
     ]
    }
   ],
   "source": [
    "println(\"\")\n",
    "println(\"No GBM Calibration, Change in Growth, Steady State to Steady State\")\n",
    "println(\"Growth in Baseline: \", round(100*nogbm_baseline_sol.g, digits=2))\n",
    "println(\"Growth in New SS (Autarky): \", round(100*nogbm_autarky_sol.g, digits=2))"
   ]
  },
  {
   "cell_type": "code",
   "execution_count": 90,
   "metadata": {},
   "outputs": [
    {
     "name": "stdout",
     "output_type": "stream",
     "text": [
      "No GBM Calibration Consumption Equivalent Welfare Gain, Steady State to Steady State (Autarky)\n",
      "CE gains: -5.8"
     ]
    }
   ],
   "source": [
    "ss_ce = 100*consumption_equivalent(nogbm_autarky_sol.U_bar, nogbm_baseline_sol.U_bar, nogbm_params);\n",
    "println(\"\")\n",
    "println(\"No GBM Calibration Consumption Equivalent Welfare Gain, Steady State to Steady State (Autarky)\")\n",
    "println(\"CE gains: \", round(ss_ce, digits=1))"
   ]
  },
  {
   "cell_type": "code",
   "execution_count": null,
   "metadata": {},
   "outputs": [],
   "source": []
  }
 ],
 "metadata": {
  "kernelspec": {
   "display_name": "Julia 1.4.0",
   "language": "julia",
   "name": "julia-1.4"
  },
  "language_info": {
   "file_extension": ".jl",
   "mimetype": "application/julia",
   "name": "julia",
   "version": "1.4.0"
  }
 },
 "nbformat": 4,
 "nbformat_minor": 4
}
