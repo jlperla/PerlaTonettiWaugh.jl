{
 "cells": [
  {
   "cell_type": "code",
   "execution_count": 1,
   "metadata": {},
   "outputs": [
    {
     "name": "stderr",
     "output_type": "stream",
     "text": [
      "C:\\ProgramData\\Anaconda3\\lib\\site-packages\\pandas_datareader\\compat\\__init__.py:7: FutureWarning: pandas.util.testing is deprecated. Use the functions in the public API at pandas.testing instead.\n",
      "  from pandas.util.testing import assert_frame_equal\n"
     ]
    }
   ],
   "source": [
    "import pandas as pd\n",
    "pd.core.common.is_list_like = pd.api.types.is_list_like\n",
    "\n",
    "from pandas_datareader import data, wb # This will import the data reader\n",
    "\n",
    "import matplotlib.pyplot as plt\n",
    "import numpy as np\n",
    "import datetime as dt"
   ]
  },
  {
   "cell_type": "markdown",
   "metadata": {},
   "source": [
    "---\n",
    "### [Equilibrium Technology Diffusion, Trade, and Growth](https://christophertonetti.com/files/papers/PerlaTonettiWaugh_DiffusionTradeAndGrowth.pdf) by Perla, Tonetti, and Waugh (AER 2020)\n",
    "---\n",
    "### 7.1. Calibration\n",
    "\n",
    "Table of Contents\n",
    "\n",
    "- [Firm Moments from SLBD](#firm)\n",
    "\n",
    "\n",
    "- [Firm moments from BEJK](#bejk)\n",
    "\n",
    "\n",
    "- [Trade moments](#trade)\n",
    "\n",
    "\n",
    "- [Productivity growth](#productivity)\n",
    "\n",
    "\n",
    "- [Real interest rate](#real_rate)\n",
    "\n",
    "\n",
    "- [Output of computations for calibration code](#output) and used in Section 7.2"
   ]
  },
  {
   "cell_type": "markdown",
   "metadata": {},
   "source": [
    "---\n",
    "### <a name=\"firm\"></a> Firm/Establishment Dynamic Moments\n",
    "\n",
    "The micro-level data that we use is from the Synthetic Longitudinal Business Database (SLBD) (U.S.Census Bureau (2011)). The SLBD is a public access database that synthesizes information on establishments’ employment, payroll, industry, and birth and death year. It is synthesized from the confidential, restricted-access Longitudinal Business Database that is maintained by the U.S. Census Bureau. \n",
    "\n",
    "We construct SLBD moments using only establishments with at least 20 employees, which is the cutoff value used in Hurst and Pugsley (2011). Following Hurst and Pugsley (2011), the motivation for this sample restriction is that many of these small establishments appear to have no intention to grow or innovate and, thus, their motives do not correspond with the motives of firms in our model.\n",
    "\n",
    "#### How to access the SLBD\n",
    "\n",
    "Instructions on how to access the SLBD and access our code is at [``/src/calibration/SLBD_instructions/SLBD_instructions.md``](https://github.com/jlperla/PerlaTonettiWaugh.jl/blob/master/src/calibration/SLBD_instructions/SLBD_instructions.md).\n",
    "\n",
    "#### Entry\n",
    "This moment is measured as the share of employment (out of total employment) that is employed in new establishments each year. Averaging across all time periods, this value is two percent.\n",
    "\n",
    "- BGP entry (and exit rate): 0.02\n",
    "\n",
    "On the balanced growth path, the entry rate exactly corresponds with the exit rate and, hence, this moment directly pins down the exit shock faced by firms."
   ]
  },
  {
   "cell_type": "markdown",
   "metadata": {},
   "source": [
    "#### Transition Moments\n",
    "\n",
    "We construct these moments in the following way. For each year, we sort establishments into quartiles by employment size. We then compute the probabilities that establishments transition across size-quartiles at a five-year horizon, conditional on continuing to operate. We then average these transition probabilities across all years in the SLBD, i.e., from 1977–2000. The focus on the five-year horizons is to sweep out any transient fluctuations that may occur at higher frequencies due to shocks that are outside of our model. \n",
    "\n",
    "To give some perspective on the overall size of establishments, establishments larger than about 40 employees are in the top two quartiles; establishments larger than about 100 employees are in the\n",
    "top quartile."
   ]
  },
  {
   "cell_type": "code",
   "execution_count": 2,
   "metadata": {},
   "outputs": [
    {
     "data": {
      "text/html": [
       "<div>\n",
       "<style scoped>\n",
       "    .dataframe tbody tr th:only-of-type {\n",
       "        vertical-align: middle;\n",
       "    }\n",
       "\n",
       "    .dataframe tbody tr th {\n",
       "        vertical-align: top;\n",
       "    }\n",
       "\n",
       "    .dataframe thead th {\n",
       "        text-align: right;\n",
       "    }\n",
       "</style>\n",
       "<table border=\"1\" class=\"dataframe\">\n",
       "  <thead>\n",
       "    <tr style=\"text-align: right;\">\n",
       "      <th></th>\n",
       "      <th>to_one</th>\n",
       "      <th>to_two</th>\n",
       "      <th>to_three</th>\n",
       "      <th>to_four</th>\n",
       "    </tr>\n",
       "    <tr>\n",
       "      <th>quartile</th>\n",
       "      <th></th>\n",
       "      <th></th>\n",
       "      <th></th>\n",
       "      <th></th>\n",
       "    </tr>\n",
       "  </thead>\n",
       "  <tbody>\n",
       "    <tr>\n",
       "      <th>3</th>\n",
       "      <td>0.260</td>\n",
       "      <td>0.290</td>\n",
       "      <td>0.285</td>\n",
       "      <td>0.161</td>\n",
       "    </tr>\n",
       "    <tr>\n",
       "      <th>4</th>\n",
       "      <td>0.094</td>\n",
       "      <td>0.136</td>\n",
       "      <td>0.270</td>\n",
       "      <td>0.501</td>\n",
       "    </tr>\n",
       "  </tbody>\n",
       "</table>\n",
       "</div>"
      ],
      "text/plain": [
       "          to_one  to_two  to_three  to_four\n",
       "quartile                                   \n",
       "3          0.260   0.290     0.285    0.161\n",
       "4          0.094   0.136     0.270    0.501"
      ]
     },
     "execution_count": 2,
     "metadata": {},
     "output_type": "execute_result"
    }
   ],
   "source": [
    "trans_moments = {\"to_one\": [0.26, 0.094], \"to_two\": [0.29, 0.136], \"to_three\": [0.285, 0.27], \"to_four\": [0.161, 0.501], \n",
    "                \"quartile\": [3, 4]}\n",
    "\n",
    "trans_moments = pd.DataFrame(trans_moments)\n",
    "trans_moments.set_index(\"quartile\", inplace = True)\n",
    "\n",
    "trans_moments.head()"
   ]
  },
  {
   "cell_type": "markdown",
   "metadata": {},
   "source": [
    "These transition probabilities are quite similar when restricting the sample to only manufacturing establishments, with\n",
    "the only difference being a bit more persistence. Moreover, they look similar to the productivity transitions reported in Baily, Hulten, and Campbell (1992)."
   ]
  },
  {
   "cell_type": "code",
   "execution_count": 3,
   "metadata": {},
   "outputs": [
    {
     "data": {
      "text/html": [
       "<div>\n",
       "<style scoped>\n",
       "    .dataframe tbody tr th:only-of-type {\n",
       "        vertical-align: middle;\n",
       "    }\n",
       "\n",
       "    .dataframe tbody tr th {\n",
       "        vertical-align: top;\n",
       "    }\n",
       "\n",
       "    .dataframe thead th {\n",
       "        text-align: right;\n",
       "    }\n",
       "</style>\n",
       "<table border=\"1\" class=\"dataframe\">\n",
       "  <thead>\n",
       "    <tr style=\"text-align: right;\">\n",
       "      <th></th>\n",
       "      <th>to_one</th>\n",
       "      <th>to_two</th>\n",
       "      <th>to_three</th>\n",
       "      <th>to_four</th>\n",
       "    </tr>\n",
       "    <tr>\n",
       "      <th>quartile</th>\n",
       "      <th></th>\n",
       "      <th></th>\n",
       "      <th></th>\n",
       "      <th></th>\n",
       "    </tr>\n",
       "  </thead>\n",
       "  <tbody>\n",
       "    <tr>\n",
       "      <th>3</th>\n",
       "      <td>0.18</td>\n",
       "      <td>0.288</td>\n",
       "      <td>0.32</td>\n",
       "      <td>0.21</td>\n",
       "    </tr>\n",
       "    <tr>\n",
       "      <th>4</th>\n",
       "      <td>0.05</td>\n",
       "      <td>0.150</td>\n",
       "      <td>0.30</td>\n",
       "      <td>0.49</td>\n",
       "    </tr>\n",
       "  </tbody>\n",
       "</table>\n",
       "</div>"
      ],
      "text/plain": [
       "          to_one  to_two  to_three  to_four\n",
       "quartile                                   \n",
       "3           0.18   0.288      0.32     0.21\n",
       "4           0.05   0.150      0.30     0.49"
      ]
     },
     "execution_count": 3,
     "metadata": {},
     "output_type": "execute_result"
    }
   ],
   "source": [
    "manuf_trans_moments = {\"to_one\": [0.18, 0.05], \"to_two\": [0.288, 0.15], \"to_three\": [0.32, 0.30], \"to_four\": [0.21, 0.49], \n",
    "                \"quartile\": [3, 4]}\n",
    "\n",
    "manuf_trans_moments = pd.DataFrame(manuf_trans_moments)\n",
    "manuf_trans_moments.set_index(\"quartile\", inplace = True)\n",
    "\n",
    "manuf_trans_moments.head()"
   ]
  },
  {
   "cell_type": "markdown",
   "metadata": {},
   "source": [
    "---\n",
    "\n",
    "### <a name=\"firm\"></a> Exporters from BEJK \n",
    "\n",
    "This moment is constructed from the finding of Bernard, Eaton, Jensen, and Kortum (2003), who use the 1992 U.S. Census of Manufactures to report that 20 percent of manufacturing establishments export. Because we associate each variety in our model with the output of an establishment within the entire U.S. aggregate economy, we adjust the Bernard et al. (2003) number.\n",
    "\n",
    "In the SLBD data, when dropping establishments with < 20 employess, only 16.5 percent of establishments are in manufacturing and we assume, as a lower bound, that only manufactures are exported. This implies that the fraction of all establishments that export is 0.2*0.165 = 3.3 percent.\n",
    "\n",
    "We also target the finding of Bernard et al. (2003) that exporters’ domestic shipments are 4.8 times larger than non-exporters’ shipments."
   ]
  },
  {
   "cell_type": "code",
   "execution_count": 4,
   "metadata": {},
   "outputs": [],
   "source": [
    "bejk = pd.DataFrame([0.033, 4.8])"
   ]
  },
  {
   "cell_type": "markdown",
   "metadata": {},
   "source": [
    "---\n",
    "### <a name=\"firm\"></a> US Imports\n",
    "\n",
    "We construct the aggregate import share as the value of imports of goods and services divided by GDP. Over the 1977–2000 time period, the average import share was 10.63 percent and quite stable."
   ]
  },
  {
   "cell_type": "code",
   "execution_count": 5,
   "metadata": {},
   "outputs": [],
   "source": [
    "codes = [\"GDP\", \"IMPGS\"] \n",
    "\n",
    "trade = data.DataReader(codes,\"fred\",1977)\n",
    "        \n",
    "trade = trade.resample(\"Y\", convention= 'end').sum()\n",
    "\n",
    "trade[\"imports_gdp\"] =  100* (trade.IMPGS / trade.GDP )        "
   ]
  },
  {
   "cell_type": "code",
   "execution_count": 6,
   "metadata": {},
   "outputs": [
    {
     "name": "stdout",
     "output_type": "stream",
     "text": [
      "Over the 1977–2000 time period, the average import share was: 10.627\n"
     ]
    }
   ],
   "source": [
    "avg_trade = trade.loc[trade.index < '2001'].imports_gdp.mean()\n",
    "\n",
    "print(\"Over the 1977–2000 time period, the average import share was:\", round(avg_trade,3))"
   ]
  },
  {
   "cell_type": "code",
   "execution_count": 7,
   "metadata": {},
   "outputs": [
    {
     "data": {
      "image/png": "[encoded data removed]",
      "text/plain": [
       "<Figure size 720x504 with 1 Axes>"
      ]
     },
     "metadata": {
      "needs_background": "light"
     },
     "output_type": "display_data"
    }
   ],
   "source": [
    "fig, ax = plt.subplots(figsize = (10,7))\n",
    "\n",
    "ax.plot(trade.index, trade[\"imports_gdp\"], color = \"red\",\n",
    "        linewidth = 5, label = \"Imports\")\n",
    "\n",
    "ax.axhline(y= avg_trade,          # Set the value equall to the average\n",
    "           color='k',       # make the color red\n",
    "           linestyle='--',   # the line style\n",
    "           linewidth=4)     # thickness of the line\n",
    "\n",
    "ax.spines[\"top\"].set_visible(False)\n",
    "ax.spines[\"right\"].set_visible(False)\n",
    "\n",
    "ax.set_xlim(dt.datetime(1977,1,1), dt.datetime(2000,1,1))\n",
    "ax.set_ylim(5,15)\n",
    "\n",
    "plt.show()"
   ]
  },
  {
   "cell_type": "markdown",
   "metadata": {},
   "source": [
    "---\n",
    "### <a name=\"productivity\"></a> TFP Growth\n",
    "\n",
    "To measure U.S. productivity growth, we use the [Bureau of Labor and Statistics Multifactor Productivity Database](https://www.bls.gov/mfp/home.htm). We focus on the private non-farm business sector and measure labor-augmenting productivity growth."
   ]
  },
  {
   "cell_type": "code",
   "execution_count": 8,
   "metadata": {},
   "outputs": [],
   "source": [
    "input_path = \"src/calibration/data\"\n",
    "\n",
    "input_path = input_path + \"/LATFP.xlsx\"\n",
    "## This is the historical multifactor dataset. \n",
    "\n",
    "bls = pd.read_excel(input_path, sheet_name = \"XG\",skiprows=6,nrows=72, headers = True, usecols = \"A:G\")\n",
    "# Use the non-farm, private sector, sheet XG\n",
    "\n",
    "# Note the orginal source of the data is\n",
    "# https://www.bls.gov/mfp/special_requests/mfptablehis.xlsx\n",
    "# As of 4/06, it appears that there was a revison of the historical tables.\n",
    "# The TFP growth rate is 0.80 vs. 0.79 used in the paper. \n",
    "\n",
    "bls.dropna(inplace = True)\n",
    "\n",
    "bls.set_index(\"Year\", inplace = True)\n",
    "\n",
    "bls.columns = [\"RVA\", \"L\", \"K\", \"NVA\", \"NLC\", \"NKC\"]\n",
    "\n",
    "bls.drop(2018, axis = 0, inplace = True)"
   ]
  },
  {
   "cell_type": "code",
   "execution_count": 9,
   "metadata": {},
   "outputs": [
    {
     "data": {
      "text/html": [
       "<div>\n",
       "<style scoped>\n",
       "    .dataframe tbody tr th:only-of-type {\n",
       "        vertical-align: middle;\n",
       "    }\n",
       "\n",
       "    .dataframe tbody tr th {\n",
       "        vertical-align: top;\n",
       "    }\n",
       "\n",
       "    .dataframe thead th {\n",
       "        text-align: right;\n",
       "    }\n",
       "</style>\n",
       "<table border=\"1\" class=\"dataframe\">\n",
       "  <thead>\n",
       "    <tr style=\"text-align: right;\">\n",
       "      <th></th>\n",
       "      <th>RVA</th>\n",
       "      <th>L</th>\n",
       "      <th>K</th>\n",
       "      <th>NVA</th>\n",
       "      <th>NLC</th>\n",
       "      <th>NKC</th>\n",
       "    </tr>\n",
       "    <tr>\n",
       "      <th>Year</th>\n",
       "      <th></th>\n",
       "      <th></th>\n",
       "      <th></th>\n",
       "      <th></th>\n",
       "      <th></th>\n",
       "      <th></th>\n",
       "    </tr>\n",
       "  </thead>\n",
       "  <tbody>\n",
       "    <tr>\n",
       "      <th>2013.0</th>\n",
       "      <td>12138.731787</td>\n",
       "      <td>7024.670066</td>\n",
       "      <td>4376.594278</td>\n",
       "      <td>12312.7</td>\n",
       "      <td>7072.07</td>\n",
       "      <td>4481.46</td>\n",
       "    </tr>\n",
       "    <tr>\n",
       "      <th>2014.0</th>\n",
       "      <td>12520.291128</td>\n",
       "      <td>7201.584199</td>\n",
       "      <td>4500.352539</td>\n",
       "      <td>12922.7</td>\n",
       "      <td>7429.04</td>\n",
       "      <td>4697.01</td>\n",
       "    </tr>\n",
       "    <tr>\n",
       "      <th>2015.0</th>\n",
       "      <td>12964.111194</td>\n",
       "      <td>7375.836859</td>\n",
       "      <td>4637.590224</td>\n",
       "      <td>13476.3</td>\n",
       "      <td>7825.63</td>\n",
       "      <td>4835.53</td>\n",
       "    </tr>\n",
       "    <tr>\n",
       "      <th>2016.0</th>\n",
       "      <td>13173.415497</td>\n",
       "      <td>7505.505874</td>\n",
       "      <td>4777.426761</td>\n",
       "      <td>13839.6</td>\n",
       "      <td>8047.16</td>\n",
       "      <td>4962.26</td>\n",
       "    </tr>\n",
       "    <tr>\n",
       "      <th>2017.0</th>\n",
       "      <td>13528.844631</td>\n",
       "      <td>7649.337123</td>\n",
       "      <td>4916.218202</td>\n",
       "      <td>14451.1</td>\n",
       "      <td>8435.82</td>\n",
       "      <td>5162.35</td>\n",
       "    </tr>\n",
       "  </tbody>\n",
       "</table>\n",
       "</div>"
      ],
      "text/plain": [
       "                 RVA            L            K      NVA      NLC      NKC\n",
       "Year                                                                     \n",
       "2013.0  12138.731787  7024.670066  4376.594278  12312.7  7072.07  4481.46\n",
       "2014.0  12520.291128  7201.584199  4500.352539  12922.7  7429.04  4697.01\n",
       "2015.0  12964.111194  7375.836859  4637.590224  13476.3  7825.63  4835.53\n",
       "2016.0  13173.415497  7505.505874  4777.426761  13839.6  8047.16  4962.26\n",
       "2017.0  13528.844631  7649.337123  4916.218202  14451.1  8435.82  5162.35"
      ]
     },
     "execution_count": 9,
     "metadata": {},
     "output_type": "execute_result"
    }
   ],
   "source": [
    "bls.tail()"
   ]
  },
  {
   "cell_type": "code",
   "execution_count": 10,
   "metadata": {},
   "outputs": [],
   "source": [
    "bls[\"labor_share\"] = bls[\"NLC\"] / bls[\"NVA\"]\n",
    "\n",
    "reg_labor_share = 0.66\n",
    "\n",
    "# Labor's share is nominal compensation vs. nomional value added.\n",
    "\n",
    "bls[\"TFP\"] = (bls[\"RVA\"]/(bls[\"L\"]**(bls[\"labor_share\"])*bls[\"K\"]**(1-bls[\"labor_share\"]))).astype(\"float\")\n",
    "\n",
    "# TFP measure\n",
    "\n",
    "bls[\"LA_TFP\"] = (bls[\"TFP\"]**(1/(bls[\"labor_share\"]))).astype(\"float\")\n",
    "\n",
    "# Labor Augmenting."
   ]
  },
  {
   "cell_type": "code",
   "execution_count": 11,
   "metadata": {},
   "outputs": [],
   "source": [
    "start_year = 1976\n",
    "\n",
    "mean_tfp = 100.*np.log(bls.loc[start_year:2000].LA_TFP).diff().mean()\n",
    "\n",
    "#100.*np.log(bls.loc[start_year:2000].LA_TFP).diff()"
   ]
  },
  {
   "cell_type": "code",
   "execution_count": 12,
   "metadata": {},
   "outputs": [
    {
     "name": "stdout",
     "output_type": "stream",
     "text": [
      "Mean Labor Augmenting TFP growth\n",
      "0.79\n"
     ]
    }
   ],
   "source": [
    "print(\"Mean Labor Augmenting TFP growth\")\n",
    "print(round(mean_tfp,2))"
   ]
  },
  {
   "cell_type": "code",
   "execution_count": 13,
   "metadata": {},
   "outputs": [
    {
     "name": "stdout",
     "output_type": "stream",
     "text": [
      "Standard Deviation Labor Augmenting TFP growth\n",
      "3.3\n"
     ]
    }
   ],
   "source": [
    "print(\"Standard Deviation Labor Augmenting TFP growth\")\n",
    "\n",
    "std_tfp = 100.*np.log(bls.loc[start_year:2000].LA_TFP).diff().std()\n",
    "print(round(std_tfp,2))"
   ]
  },
  {
   "cell_type": "code",
   "execution_count": 14,
   "metadata": {},
   "outputs": [
    {
     "name": "stdout",
     "output_type": "stream",
     "text": [
      "standard deviation of these decadal averages\n",
      "0.78\n"
     ]
    }
   ],
   "source": [
    "mean_50 = 100.*np.log(bls.loc[1949:1959].LA_TFP).diff().mean()\n",
    "\n",
    "mean_60 = 100.*np.log(bls.loc[1959:1969].LA_TFP).diff().mean()\n",
    "\n",
    "mean_70 = 100.*np.log(bls.loc[1969:1979].LA_TFP).diff().mean()\n",
    "\n",
    "mean_80 = 100.*np.log(bls.loc[1979:1989].LA_TFP).diff().mean()\n",
    "\n",
    "mean_90 = 100.*np.log(bls.loc[1989:1999].LA_TFP).diff().mean()\n",
    "\n",
    "mean_00 = 100.*np.log(bls.loc[1999:2009].LA_TFP).diff().mean()\n",
    "\n",
    "mean_10 = 100.*np.log(bls.loc[2009:2017].LA_TFP).diff().mean()\n",
    "\n",
    "decadal_avg = [mean_50, mean_60, mean_70, mean_80, mean_90, mean_00, mean_10]\n",
    "\n",
    "df_dec_avg = pd.DataFrame(decadal_avg, columns=['DateValue'])\n",
    "\n",
    "std_dec_avg = df_dec_avg.std()[0]\n",
    "\n",
    "print(\"standard deviation of these decadal averages\")\n",
    "print(round(std_dec_avg,2))\n",
    "\n",
    "outdf = pd.DataFrame([std_dec_avg])\n",
    "outdf.to_csv(\"./src/calibration/data/dec_std_avg.csv\", index = False, header = False)"
   ]
  },
  {
   "cell_type": "code",
   "execution_count": 31,
   "metadata": {},
   "outputs": [
    {
     "data": {
      "image/png": "[encoded data removed]",
      "text/plain": [
       "<Figure size 720x504 with 1 Axes>"
      ]
     },
     "metadata": {
      "needs_background": "light"
     },
     "output_type": "display_data"
    }
   ],
   "source": [
    "fig, ax = plt.subplots(figsize = (10,7))\n",
    "\n",
    "ax.plot(100.*np.log(bls.loc[start_year:2007].LA_TFP).diff(), color = \"red\",\n",
    "        linewidth = 5, label = \"Imports\")\n",
    "\n",
    "ax.axhline(y= mean_tfp,   \n",
    "           # Set the value equall to the average\n",
    "           color='k',       # make the color red\n",
    "           linestyle='--',   # the line style\n",
    "           linewidth=4)     # thickness of the line\n",
    "\n",
    "ax.spines[\"top\"].set_visible(False)\n",
    "ax.spines[\"right\"].set_visible(False)\n",
    "\n",
    "ax.set_xlim(1977,2000)\n",
    "#ax.set_ylim(5,15)\n",
    "plt.show()"
   ]
  },
  {
   "cell_type": "markdown",
   "metadata": {},
   "source": [
    "---\n",
    "### <a name=\"real_rate\"></a> Real Interest Rates \n",
    "\n",
    "We construct the real interest rate as the difference between the rate of return on a one year U.S. treasury constant maturity nominal bond and the realized inflation rate. We use the U.S consumer price index, all items as our measure of realized inflation."
   ]
  },
  {
   "cell_type": "code",
   "execution_count": 22,
   "metadata": {},
   "outputs": [],
   "source": [
    "codes = [\"GS1\", \"CPALTT01USM659N\"] \n",
    "\n",
    "real_rates = data.DataReader(codes,\"fred\",1977)  # Read data from FRED and specify start date\n",
    "real_rates = real_rates.resample(\"Y\", convention= 'start').mean()\n",
    "\n",
    "real_rates = real_rates.dropna()\n",
    "\n",
    "real_rates[\"real_rate\"] = real_rates[\"GS1\"] - real_rates[\"CPALTT01USM659N\"]"
   ]
  },
  {
   "cell_type": "code",
   "execution_count": 23,
   "metadata": {},
   "outputs": [
    {
     "data": {
      "text/html": [
       "<div>\n",
       "<style scoped>\n",
       "    .dataframe tbody tr th:only-of-type {\n",
       "        vertical-align: middle;\n",
       "    }\n",
       "\n",
       "    .dataframe tbody tr th {\n",
       "        vertical-align: top;\n",
       "    }\n",
       "\n",
       "    .dataframe thead th {\n",
       "        text-align: right;\n",
       "    }\n",
       "</style>\n",
       "<table border=\"1\" class=\"dataframe\">\n",
       "  <thead>\n",
       "    <tr style=\"text-align: right;\">\n",
       "      <th></th>\n",
       "      <th>GS1</th>\n",
       "      <th>CPALTT01USM659N</th>\n",
       "      <th>real_rate</th>\n",
       "    </tr>\n",
       "    <tr>\n",
       "      <th>DATE</th>\n",
       "      <th></th>\n",
       "      <th></th>\n",
       "      <th></th>\n",
       "    </tr>\n",
       "  </thead>\n",
       "  <tbody>\n",
       "    <tr>\n",
       "      <th>1977-12-31</th>\n",
       "      <td>6.088333</td>\n",
       "      <td>6.498055</td>\n",
       "      <td>-0.409722</td>\n",
       "    </tr>\n",
       "    <tr>\n",
       "      <th>1978-12-31</th>\n",
       "      <td>8.340000</td>\n",
       "      <td>7.615543</td>\n",
       "      <td>0.724457</td>\n",
       "    </tr>\n",
       "    <tr>\n",
       "      <th>1979-12-31</th>\n",
       "      <td>10.665000</td>\n",
       "      <td>11.224806</td>\n",
       "      <td>-0.559806</td>\n",
       "    </tr>\n",
       "    <tr>\n",
       "      <th>1980-12-31</th>\n",
       "      <td>12.048333</td>\n",
       "      <td>13.575444</td>\n",
       "      <td>-1.527111</td>\n",
       "    </tr>\n",
       "    <tr>\n",
       "      <th>1981-12-31</th>\n",
       "      <td>14.778333</td>\n",
       "      <td>10.352041</td>\n",
       "      <td>4.426293</td>\n",
       "    </tr>\n",
       "  </tbody>\n",
       "</table>\n",
       "</div>"
      ],
      "text/plain": [
       "                  GS1  CPALTT01USM659N  real_rate\n",
       "DATE                                             \n",
       "1977-12-31   6.088333         6.498055  -0.409722\n",
       "1978-12-31   8.340000         7.615543   0.724457\n",
       "1979-12-31  10.665000        11.224806  -0.559806\n",
       "1980-12-31  12.048333        13.575444  -1.527111\n",
       "1981-12-31  14.778333        10.352041   4.426293"
      ]
     },
     "execution_count": 23,
     "metadata": {},
     "output_type": "execute_result"
    }
   ],
   "source": [
    "real_rates.head(5)"
   ]
  },
  {
   "cell_type": "code",
   "execution_count": 24,
   "metadata": {},
   "outputs": [
    {
     "name": "stdout",
     "output_type": "stream",
     "text": [
      "Average Real Rate 2.825\n"
     ]
    }
   ],
   "source": [
    "avg_real = real_rates[\"real_rate\"].loc[(real_rates.index < \"2001\") & (real_rates.index > \"1977\")].mean()\n",
    "# This has the real rate starting in 1977 (so inflation is from 76 to 77), then ending in 2000\n",
    "# so inflation is going from (99 to 00)\n",
    "\n",
    "print(\"Average Real Rate\", round(avg_real,3))"
   ]
  },
  {
   "cell_type": "code",
   "execution_count": 26,
   "metadata": {},
   "outputs": [
    {
     "data": {
      "image/png": "[encoded data removed]",
      "text/plain": [
       "<Figure size 720x504 with 1 Axes>"
      ]
     },
     "metadata": {
      "needs_background": "light"
     },
     "output_type": "display_data"
    }
   ],
   "source": [
    "fig, ax = plt.subplots(figsize = (10,7))\n",
    "\n",
    "ax.plot(real_rates[\"real_rate\"].dropna(), color = \"red\",\n",
    "        linewidth = 5, label = \"Imports\")\n",
    "\n",
    "ax.axhline(y=avg_real,   \n",
    "           # Set the value equall to the average\n",
    "           color='k',       # make the color red\n",
    "           linestyle='--',   # the line style\n",
    "           linewidth=4)     # thickness of the line\n",
    "\n",
    "ax.spines[\"top\"].set_visible(False)\n",
    "ax.spines[\"right\"].set_visible(False)\n",
    "\n",
    "ax.set_xlim(dt.datetime(1977,1,1), dt.datetime(2000,1,1))\n",
    "#ax.set_ylim(5,15)\n",
    "plt.show()"
   ]
  },
  {
   "cell_type": "markdown",
   "metadata": {},
   "source": [
    "---\n",
    "### <a name=\"output\"></a> Save the Empirical Moments for Use as Input into Calibration"
   ]
  },
  {
   "cell_type": "code",
   "execution_count": 38,
   "metadata": {},
   "outputs": [],
   "source": [
    "outpath = \"src/calibration/data\""
   ]
  },
  {
   "cell_type": "code",
   "execution_count": 39,
   "metadata": {},
   "outputs": [],
   "source": [
    "# These are the firm transition dyanics moments\n",
    "trans_moments.to_csv(outpath + \"/firm_moments.csv\", index = False, header = False)\n",
    "\n",
    "# Exit rate entry rate\n",
    "entry_moment = pd.DataFrame([0.02])\n",
    "entry_moment.to_csv(outpath + \"/entry_moment.csv\", index = False, header = False)"
   ]
  },
  {
   "cell_type": "code",
   "execution_count": 40,
   "metadata": {},
   "outputs": [],
   "source": [
    "# The bejk moments\n",
    "bejk.to_csv(outpath + \"/bejk_moments.csv\", index = False, header = False)"
   ]
  },
  {
   "cell_type": "code",
   "execution_count": 41,
   "metadata": {},
   "outputs": [],
   "source": [
    "# Trade moments\n",
    "trade_moment = pd.DataFrame([1-.01*avg_trade])\n",
    "trade_moment.to_csv(outpath + \"/trade_moments.csv\", index = False, header = False)"
   ]
  },
  {
   "cell_type": "code",
   "execution_count": 42,
   "metadata": {},
   "outputs": [],
   "source": [
    "# Growth and r moments\n",
    "\n",
    "growth_and_r_moments = pd.DataFrame([.01*avg_real, .01*mean_tfp])\n",
    "growth_and_r_moments.to_csv(outpath + \"/growth_and_r_moments.csv\", index = False, header = False)"
   ]
  }
 ],
 "metadata": {
  "hide_input": false,
  "kernelspec": {
   "display_name": "Python 3",
   "language": "python",
   "name": "python3"
  },
  "language_info": {
   "codemirror_mode": {
    "name": "ipython",
    "version": 3
   },
   "file_extension": ".py",
   "mimetype": "text/x-python",
   "name": "python",
   "nbconvert_exporter": "python",
   "pygments_lexer": "ipython3",
   "version": "3.7.3"
  }
 },
 "nbformat": 4,
 "nbformat_minor": 4
}
