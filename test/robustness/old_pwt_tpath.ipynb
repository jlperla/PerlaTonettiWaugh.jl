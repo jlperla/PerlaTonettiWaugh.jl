{
 "cells": [
  {
   "cell_type": "markdown",
   "metadata": {},
   "source": [
    "### Example to mimic old PTW\n",
    "\n",
    "This is a notebook with parameter values set to mimic the old PTW calibration"
   ]
  },
  {
   "cell_type": "code",
   "execution_count": 1,
   "metadata": {},
   "outputs": [
    {
     "name": "stdout",
     "output_type": "stream",
     "text": [
      "\u001b[32m\u001b[1m  Updating\u001b[22m\u001b[39m registry at `~/.julia/registries/General`\n",
      "\u001b[32m\u001b[1m  Updating\u001b[22m\u001b[39m git-repo `https://github.com/JuliaRegistries/General.git`\n",
      "\u001b[?25l\u001b[2K\u001b[?25h\u001b[32m\u001b[1mPrecompiling\u001b[22m\u001b[39m project...\n"
     ]
    }
   ],
   "source": [
    "using Pkg\n",
    "pkg\"activate ../..\" # since we're in ~/test/robustness, and want ~\n",
    "pkg\"instantiate\"\n",
    "pkg\"precompile\""
   ]
  },
  {
   "cell_type": "code",
   "execution_count": 2,
   "metadata": {},
   "outputs": [],
   "source": [
    "using PerlaTonettiWaugh, Plots, BenchmarkTools"
   ]
  },
  {
   "cell_type": "code",
   "execution_count": 3,
   "metadata": {},
   "outputs": [],
   "source": [
    "using Interpolations, Sundials, Parameters"
   ]
  },
  {
   "cell_type": "markdown",
   "metadata": {},
   "source": [
    "Below is the calibration, the gbm and death rate set to be small values. The otheres are virtually taken from Tabe 1. The only ones that are a bit fuzzy are $\\kappa$ which was rounded up and then the $\\chi$ which is a bit higher. I beleve that this may have been a typo in the paper."
   ]
  },
  {
   "cell_type": "code",
   "execution_count": 4,
   "metadata": {},
   "outputs": [
    {
     "data": {
      "text/plain": [
       "#3 (generic function with 2 methods)"
      ]
     },
     "execution_count": 4,
     "metadata": {},
     "output_type": "execute_result"
    }
   ],
   "source": [
    "parameters_old_paper = parameter_defaults(d = 4.0,\n",
    "                                           θ = 3.1878,\n",
    "                                           κ = 0.006,\n",
    "                                           χ = 1.00/2.80,\n",
    "                                           υ = 0.001,\n",
    "                                           σ = 3.0,\n",
    "                                           ζ = 1.00,\n",
    "                                           δ = 0.001)\n",
    "\n",
    "settings_old_paper_defaults = @with_kw (z_max = 5,\n",
    "                                z_ex = unique([range(0., 0.1, length = 400)' range(0.1, 1., length = 400)' range(1., 10.0, length = 200+2)']),\n",
    "                                z = z_ex[2:end-1],\n",
    "                                Δ_E = 1e-6,\n",
    "                                ode_solve_algorithm = CVODE_BDF(),\n",
    "                                T = 120.0,\n",
    "                                t = range(0.0, T, length = 10),\n",
    "                                g = LinearInterpolation(t, stationary_numerical(parameter_defaults(), z).g .+ 0.01*t),\n",
    "                                weights = [10.0; fill(1.0, 13)],\n",
    "                                transition_x0 = [-0.9802869871313153, -0.7679611162133799, -0.6483822140201239, -0.5709998420691726, -0.4410497194161549, -0.35188633823047205, -0.28134090933192113, -0.22721306548238096, -0.2132657066634307, -0.1802989139615504, -0.1407983331567128, -0.10561616300315106, -0.08546763464126883, -0.058948603687082865, -0.02960294672034148, -0.020649289609280547, -0.013922070758445242, -0.008451708149201357, -0.0039236251615955165],\n",
    "                                fifty_node_iv = [-1.00157, -0.848157, -0.821211, -0.821211, -0.821211, -0.748497, -0.633587, -0.527711, -0.498239, -0.498239, -0.498239, -0.498239, -0.3316, -0.3316, -0.3316, -0.3316, -0.3316, -0.281318, -0.281318, -0.281318, -0.281318, -0.281318, -0.241756, -0.230492, -0.168434, -0.168434, -0.168434, -0.168434, -0.105236, -0.103655, -0.103655, -0.0787871, -0.0787871, -0.0787871, -0.0787871, -0.0787871, -0.0787871, -0.0713765, -0.0713765, -0.0713765, -0.0713765, -0.0343871, -0.0334064, -0.0334064, -0.029373, -0.029373, -0.029373, -0.029373, -0.029373, -0.029373],\n",
    "                                continuation_x0 = zeros(length(transition_x0)),\n",
    "                                transition_lb = -ones(length(transition_x0)),\n",
    "                                transition_ub = zeros(length(transition_x0)),\n",
    "                                transition_iterations = 1000,\n",
    "                                transition_penalty_coefficient = 0.0, # coefficient to be used for a penalty function for constraints on increasing E\n",
    "                                T_U_bar = 50.0,\n",
    "                                tstops = nothing)"
   ]
  },
  {
   "cell_type": "code",
   "execution_count": 5,
   "metadata": {},
   "outputs": [
    {
     "ename": "AssertionError",
     "evalue": "AssertionError: z_hat > 1 && (Ω > 0 && g > 0)",
     "output_type": "error",
     "traceback": [
      "AssertionError: z_hat > 1 && (Ω > 0 && g > 0)",
      "",
      "Stacktrace:",
      " [1] #stationary_algebraic#26(::Base.Iterators.Pairs{Union{},Union{},Tuple{},NamedTuple{(),Tuple{}}}, ::Function, ::NamedTuple{(:ρ, :σ, :N, :θ, :γ, :κ, :ζ, :η, :Theta, :χ, :υ, :μ, :δ, :d),Tuple{Float64,Float64,Int64,Float64,Float64,Float64,Float64,Float64,Int64,Float64,Float64,Float64,Float64,Float64}}, ::Array{Float64,1}) at /Users/arnavsood/Research/PerlaTonettiWaugh.jl/src/full/stationary.jl:7",
      " [2] stationary_algebraic(::NamedTuple{(:ρ, :σ, :N, :θ, :γ, :κ, :ζ, :η, :Theta, :χ, :υ, :μ, :δ, :d),Tuple{Float64,Float64,Int64,Float64,Float64,Float64,Float64,Float64,Int64,Float64,Float64,Float64,Float64,Float64}}, ::Array{Float64,1}) at /Users/arnavsood/Research/PerlaTonettiWaugh.jl/src/full/stationary.jl:5",
      " [3] top-level scope at In[5]:15"
     ]
    }
   ],
   "source": [
    "# Define common objects. \n",
    "parameters = parameters_old_paper\n",
    "settings = settings_old_paper_defaults()\n",
    "z_grid = settings.z\n",
    "P = length(z_grid)\n",
    "\n",
    "d_0 = 10.0 # This will get us near autarky.\n",
    "d_T = parameters.d\n",
    "\n",
    "params_0 = merge(parameters, (d = d_0, )) # parameters to be used at t = 0\n",
    "params_T = merge(parameters, (d = d_T, )) # parameters to be used at t = T\n",
    "\n",
    "# initial value for numerical solver on (g, z_hat, Omega)\n",
    "initial_x = [0.02; 18.94; 17.07] # Play with this if it is kicking back errors\n",
    "\n",
    "# solve for stationary solution at t = 0\n",
    "stationary_sol_atuk = stationary_algebraic(params_0, initial_x) # solution at t = 0\n",
    "stationary_sol = stationary_algebraic(params_T, initial_x) # solution at t = T\n",
    "\n",
    "Ω_0 = stationary_sol_atuk.Ω;\n",
    "Ω_T = stationary_sol.Ω;"
   ]
  },
  {
   "cell_type": "code",
   "execution_count": 6,
   "metadata": {},
   "outputs": [
    {
     "data": {
      "text/plain": [
       "false"
      ]
     },
     "execution_count": 6,
     "metadata": {},
     "output_type": "execute_result"
    }
   ],
   "source": [
    "changed_parameters = false # set this to true if you drastically change the parameters"
   ]
  },
  {
   "cell_type": "code",
   "execution_count": 7,
   "metadata": {},
   "outputs": [],
   "source": [
    "# display_stationary_sol(stationary_sol)\n",
    "# uncomment to see all parameters for a steady state"
   ]
  },
  {
   "cell_type": "markdown",
   "metadata": {},
   "source": [
    "#### Comparison of Steady States\n",
    "\n",
    "First notice that the growth rate is near similar in autarky to that in Table 2. Then the second part computes the consumption equivalent "
   ]
  },
  {
   "cell_type": "code",
   "execution_count": 8,
   "metadata": {},
   "outputs": [
    {
     "ename": "UndefVarError",
     "evalue": "UndefVarError: stationary_sol_atuk not defined",
     "output_type": "error",
     "traceback": [
      "UndefVarError: stationary_sol_atuk not defined",
      "",
      "Stacktrace:",
      " [1] top-level scope at In[8]:1"
     ]
    }
   ],
   "source": [
    "print(stationary_sol_atuk.g,\"\\n\")\n",
    "\n",
    "print(100*(stationary_sol.U_bar/stationary_sol_atuk.U_bar-1),\"\\n\")\n",
    "\n",
    "lambda_ss = 100*(consumption_equivalent(stationary_sol.U_bar, stationary_sol_atuk.U_bar, parameters)-1)\n",
    "\n",
    "print(\"SS to SS welfare gain: \", lambda_ss,\"\\n\")"
   ]
  },
  {
   "cell_type": "markdown",
   "metadata": {},
   "source": [
    "So all this stuff is roughly matching up with what we had in Table 2. About a 1.38 growth rate, 13 percent increase in utility, 26 (24 in paper) in consumption units."
   ]
  },
  {
   "cell_type": "markdown",
   "metadata": {},
   "source": [
    "#### Transition Path"
   ]
  },
  {
   "cell_type": "code",
   "execution_count": 9,
   "metadata": {},
   "outputs": [
    {
     "ename": "UndefVarError",
     "evalue": "UndefVarError: Ω_0 not defined",
     "output_type": "error",
     "traceback": [
      "UndefVarError: Ω_0 not defined",
      "",
      "Stacktrace:",
      " [1] top-level scope at In[9]:1"
     ]
    }
   ],
   "source": [
    "settings = merge(settings, (params_T = params_T, stationary_sol_T = stationary_numerical(params_T, z_grid), Ω_0 = Ω_0, transition_iterations = 0));"
   ]
  },
  {
   "cell_type": "code",
   "execution_count": 10,
   "metadata": {},
   "outputs": [],
   "source": [
    "if changed_parameters # will use the global solver to set a new initial condition, hopefully in the vicinity of the solution implied by the new parameters\n",
    "    settings = merge(settings, (transition_iterations = 1000, ))\n",
    "    @time result = solve_full_model_global(settings; impose_E_monotonicity_constraints = true)\n",
    "    E_nodes = result.E_nodes;\n",
    "    settings = merge(settings, (transition_x0 = E_nodes, ))\n",
    "end"
   ]
  },
  {
   "cell_type": "code",
   "execution_count": 11,
   "metadata": {},
   "outputs": [
    {
     "name": "stderr",
     "output_type": "stream",
     "text": [
      "┌ Warning: transition_x0 and weights sizes differ; setting weights to default function\n",
      "└ @ PerlaTonettiWaugh /Users/arnavsood/Research/PerlaTonettiWaugh.jl/src/full/transition.jl:22\n"
     ]
    },
    {
     "name": "stdout",
     "output_type": "stream",
     "text": [
      "Starting optimization with optimizer BlackBoxOptim.DiffEvoOpt{BlackBoxOptim.FitPopulation{Float64},BlackBoxOptim.RadiusLimitedSelector,BlackBoxOptim.AdaptiveDiffEvoRandBin{3},BlackBoxOptim.RandomBound{BlackBoxOptim.RangePerDimSearchSpace}}\n",
      "0.00 secs, 0 evals, 0 steps\n",
      "\n",
      "Optimization stopped after 1001 steps and 0.300199031829834 seconds\n",
      "Termination reason: Max number of steps (1000) reached\n",
      "Steps per second = 3334.4544580923593\n",
      "Function evals per second = 3501.0106248302395\n",
      "Improvements/step = 1.001\n",
      "Total function evaluations = 1051\n",
      "\n",
      "\n",
      "Best candidate found: [-0.966548, -0.905722, -0.890438, -0.88509, -0.861615, -0.696899, -0.616693, -0.579964, -0.55903, -0.534913, -0.513664, -0.484676, -0.250918, -0.22902, -0.1864, -0.138297, -0.084539, -0.0822758, -0.0173132]\n",
      "\n",
      "Fitness: 19000000000000000388601026151424815838265344.000000000\n",
      "\n"
     ]
    },
    {
     "ename": "ErrorException",
     "evalue": "type NamedTuple has no field params_T",
     "output_type": "error",
     "traceback": [
      "type NamedTuple has no field params_T",
      "",
      "Stacktrace:",
      " [1] unpack at /Users/arnavsood/.julia/packages/Parameters/NholY/src/Parameters.jl:675 [inlined]",
      " [2] macro expansion at /Users/arnavsood/.julia/packages/Parameters/NholY/src/Parameters.jl:743 [inlined]",
      " [3] #solve_model_from_E_nodes#134(::Bool, ::typeof(LinearInterpolation), ::Function, ::Array{Float64,1}, ::NamedTuple{(:z_max, :z_ex, :z, :Δ_E, :ode_solve_algorithm, :T, :t, :g, :weights, :transition_x0, :fifty_node_iv, :continuation_x0, :transition_lb, :transition_ub, :transition_iterations, :transition_penalty_coefficient, :T_U_bar, :tstops),Tuple{Int64,Array{Float64,1},Array{Float64,1},Float64,CVODE_BDF{:Newton,:Dense},Float64,StepRangeLen{Float64,Base.TwicePrecision{Float64},Base.TwicePrecision{Float64}},Interpolations.Extrapolation{Float64,1,ScaledInterpolation{Float64,1,Interpolations.BSplineInterpolation{Float64,1,Array{Float64,1},BSpline{Linear},Tuple{Base.OneTo{Int64}}},BSpline{Linear},Tuple{StepRangeLen{Float64,Base.TwicePrecision{Float64},Base.TwicePrecision{Float64}}}},BSpline{Linear},Throw{Nothing}},Array{Float64,1},Array{Float64,1},Array{Float64,1},Array{Float64,1},Array{Float64,1},Array{Float64,1},Int64,Float64,Float64,Nothing}}) at /Users/arnavsood/Research/PerlaTonettiWaugh.jl/src/full/transition.jl:107",
      " [4] (::getfield(PerlaTonettiWaugh, Symbol(\"#kw##solve_model_from_E_nodes\")))(::NamedTuple{(:detailed_solution,),Tuple{Bool}}, ::typeof(PerlaTonettiWaugh.solve_model_from_E_nodes), ::Array{Float64,1}, ::NamedTuple{(:z_max, :z_ex, :z, :Δ_E, :ode_solve_algorithm, :T, :t, :g, :weights, :transition_x0, :fifty_node_iv, :continuation_x0, :transition_lb, :transition_ub, :transition_iterations, :transition_penalty_coefficient, :T_U_bar, :tstops),Tuple{Int64,Array{Float64,1},Array{Float64,1},Float64,CVODE_BDF{:Newton,:Dense},Float64,StepRangeLen{Float64,Base.TwicePrecision{Float64},Base.TwicePrecision{Float64}},Interpolations.Extrapolation{Float64,1,ScaledInterpolation{Float64,1,Interpolations.BSplineInterpolation{Float64,1,Array{Float64,1},BSpline{Linear},Tuple{Base.OneTo{Int64}}},BSpline{Linear},Tuple{StepRangeLen{Float64,Base.TwicePrecision{Float64},Base.TwicePrecision{Float64}}}},BSpline{Linear},Throw{Nothing}},Array{Float64,1},Array{Float64,1},Array{Float64,1},Array{Float64,1},Array{Float64,1},Array{Float64,1},Int64,Float64,Float64,Nothing}}) at ./none:0",
      " [5] #solve_full_model_global#124(::Bool, ::Nothing, ::Function, ::NamedTuple{(:z_max, :z_ex, :z, :Δ_E, :ode_solve_algorithm, :T, :t, :g, :weights, :transition_x0, :fifty_node_iv, :continuation_x0, :transition_lb, :transition_ub, :transition_iterations, :transition_penalty_coefficient, :T_U_bar, :tstops),Tuple{Int64,Array{Float64,1},Array{Float64,1},Float64,CVODE_BDF{:Newton,:Dense},Float64,StepRangeLen{Float64,Base.TwicePrecision{Float64},Base.TwicePrecision{Float64}},Interpolations.Extrapolation{Float64,1,ScaledInterpolation{Float64,1,Interpolations.BSplineInterpolation{Float64,1,Array{Float64,1},BSpline{Linear},Tuple{Base.OneTo{Int64}}},BSpline{Linear},Tuple{StepRangeLen{Float64,Base.TwicePrecision{Float64},Base.TwicePrecision{Float64}}}},BSpline{Linear},Throw{Nothing}},Array{Float64,1},Array{Float64,1},Array{Float64,1},Array{Float64,1},Array{Float64,1},Array{Float64,1},Int64,Float64,Float64,Nothing}}) at /Users/arnavsood/Research/PerlaTonettiWaugh.jl/src/full/transition.jl:43",
      " [6] (::getfield(PerlaTonettiWaugh, Symbol(\"#kw##solve_full_model_global\")))(::NamedTuple{(:impose_E_monotonicity_constraints, :front_nodes_appended),Tuple{Bool,Nothing}}, ::typeof(PerlaTonettiWaugh.solve_full_model_global), ::NamedTuple{(:z_max, :z_ex, :z, :Δ_E, :ode_solve_algorithm, :T, :t, :g, :weights, :transition_x0, :fifty_node_iv, :continuation_x0, :transition_lb, :transition_ub, :transition_iterations, :transition_penalty_coefficient, :T_U_bar, :tstops),Tuple{Int64,Array{Float64,1},Array{Float64,1},Float64,CVODE_BDF{:Newton,:Dense},Float64,StepRangeLen{Float64,Base.TwicePrecision{Float64},Base.TwicePrecision{Float64}},Interpolations.Extrapolation{Float64,1,ScaledInterpolation{Float64,1,Interpolations.BSplineInterpolation{Float64,1,Array{Float64,1},BSpline{Linear},Tuple{Base.OneTo{Int64}}},BSpline{Linear},Tuple{StepRangeLen{Float64,Base.TwicePrecision{Float64},Base.TwicePrecision{Float64}}}},BSpline{Linear},Throw{Nothing}},Array{Float64,1},Array{Float64,1},Array{Float64,1},Array{Float64,1},Array{Float64,1},Array{Float64,1},Int64,Float64,Float64,Nothing}}) at ./none:0",
      " [7] #solve_full_model#131(::Bool, ::String, ::Bool, ::Bool, ::Nothing, ::Bool, ::Function, ::NamedTuple{(:z_max, :z_ex, :z, :Δ_E, :ode_solve_algorithm, :T, :t, :g, :weights, :transition_x0, :fifty_node_iv, :continuation_x0, :transition_lb, :transition_ub, :transition_iterations, :transition_penalty_coefficient, :T_U_bar, :tstops),Tuple{Int64,Array{Float64,1},Array{Float64,1},Float64,CVODE_BDF{:Newton,:Dense},Float64,StepRangeLen{Float64,Base.TwicePrecision{Float64},Base.TwicePrecision{Float64}},Interpolations.Extrapolation{Float64,1,ScaledInterpolation{Float64,1,Interpolations.BSplineInterpolation{Float64,1,Array{Float64,1},BSpline{Linear},Tuple{Base.OneTo{Int64}}},BSpline{Linear},Tuple{StepRangeLen{Float64,Base.TwicePrecision{Float64},Base.TwicePrecision{Float64}}}},BSpline{Linear},Throw{Nothing}},Array{Float64,1},Array{Float64,1},Array{Float64,1},Array{Float64,1},Array{Float64,1},Array{Float64,1},Int64,Float64,Float64,Nothing}}) at /Users/arnavsood/Research/PerlaTonettiWaugh.jl/src/full/transition.jl:63",
      " [8] (::getfield(PerlaTonettiWaugh, Symbol(\"#kw##solve_full_model\")))(::NamedTuple{(:impose_E_monotonicity_constraints,),Tuple{Bool}}, ::typeof(solve_full_model), ::NamedTuple{(:z_max, :z_ex, :z, :Δ_E, :ode_solve_algorithm, :T, :t, :g, :weights, :transition_x0, :fifty_node_iv, :continuation_x0, :transition_lb, :transition_ub, :transition_iterations, :transition_penalty_coefficient, :T_U_bar, :tstops),Tuple{Int64,Array{Float64,1},Array{Float64,1},Float64,CVODE_BDF{:Newton,:Dense},Float64,StepRangeLen{Float64,Base.TwicePrecision{Float64},Base.TwicePrecision{Float64}},Interpolations.Extrapolation{Float64,1,ScaledInterpolation{Float64,1,Interpolations.BSplineInterpolation{Float64,1,Array{Float64,1},BSpline{Linear},Tuple{Base.OneTo{Int64}}},BSpline{Linear},Tuple{StepRangeLen{Float64,Base.TwicePrecision{Float64},Base.TwicePrecision{Float64}}}},BSpline{Linear},Throw{Nothing}},Array{Float64,1},Array{Float64,1},Array{Float64,1},Array{Float64,1},Array{Float64,1},Array{Float64,1},Int64,Float64,Float64,Nothing}}) at ./none:0",
      " [9] top-level scope at util.jl:156",
      " [10] top-level scope at In[11]:1"
     ]
    }
   ],
   "source": [
    "@time result = solve_full_model(settings; impose_E_monotonicity_constraints = true)\n",
    "solved = result.solution;\n",
    "E_nodes = result.E_nodes;\n",
    "solved = solved.results;"
   ]
  },
  {
   "cell_type": "code",
   "execution_count": 12,
   "metadata": {},
   "outputs": [
    {
     "ename": "UndefVarError",
     "evalue": "UndefVarError: solved not defined",
     "output_type": "error",
     "traceback": [
      "UndefVarError: solved not defined",
      "",
      "Stacktrace:",
      " [1] top-level scope at In[12]:1"
     ]
    }
   ],
   "source": [
    "plot_Ω = plot(solved.t, solved.Ω, label = \"Omega\", lw = 3)\n",
    "plot_residual = plot(solved.t, solved.entry_residual, label = \"entry_residual\", lw = 3)\n",
    "plot(plot_Ω, plot_residual, layout = (2,1))"
   ]
  },
  {
   "cell_type": "code",
   "execution_count": 13,
   "metadata": {},
   "outputs": [
    {
     "ename": "UndefVarError",
     "evalue": "UndefVarError: solved not defined",
     "output_type": "error",
     "traceback": [
      "UndefVarError: solved not defined",
      "",
      "Stacktrace:",
      " [1] top-level scope at In[13]:1"
     ]
    }
   ],
   "source": [
    "plot1 = plot(solved.t, solved.g, label = \"g\", lw = 3)\n",
    "plot2 = plot(solved.t, solved.z_hat, label = \"z_hat\", lw = 3)\n",
    "plot3 = plot(solved.t, solved.S, label = \"S\", lw = 3)\n",
    "plot4 = plot(solved.t, solved.entry_residual, label = \"entry_residual\", lw = 3)\n",
    "plot(plot1, plot2, plot3, plot4, layout=(2,2), size = (800, 400))"
   ]
  },
  {
   "cell_type": "markdown",
   "metadata": {},
   "source": [
    "#### Welfare Including Transition Path\n",
    "\n",
    "Here it is"
   ]
  },
  {
   "cell_type": "code",
   "execution_count": 14,
   "metadata": {},
   "outputs": [
    {
     "ename": "UndefVarError",
     "evalue": "UndefVarError: solved not defined",
     "output_type": "error",
     "traceback": [
      "UndefVarError: solved not defined",
      "",
      "Stacktrace:",
      " [1] top-level scope at In[14]:1"
     ]
    }
   ],
   "source": [
    "lambda_tpath = 100*(consumption_equivalent(solved.U[1], stationary_sol_atuk.U_bar, parameters)-1)\n",
    "\n",
    "print(\"Inclusive of the Transition Path: \", lambda_tpath,\"\\n\")"
   ]
  },
  {
   "cell_type": "markdown",
   "metadata": {},
   "source": [
    "So the transition makes welfare INCREASE by a factor of 4...."
   ]
  },
  {
   "cell_type": "markdown",
   "metadata": {},
   "source": [
    "### Saving results in .csv files"
   ]
  },
  {
   "cell_type": "code",
   "execution_count": 15,
   "metadata": {},
   "outputs": [
    {
     "ename": "UndefVarError",
     "evalue": "UndefVarError: solved not defined",
     "output_type": "error",
     "traceback": [
      "UndefVarError: solved not defined",
      "",
      "Stacktrace:",
      " [1] top-level scope at In[15]:2"
     ]
    }
   ],
   "source": [
    "using CSV\n",
    "CSV.write(\"old_pwt_tpath-results.csv\", solved)"
   ]
  }
 ],
 "metadata": {
  "kernelspec": {
   "display_name": "Julia 1.1.0",
   "language": "julia",
   "name": "julia-1.1"
  },
  "language_info": {
   "file_extension": ".jl",
   "mimetype": "application/julia",
   "name": "julia",
   "version": "1.1.0"
  }
 },
 "nbformat": 4,
 "nbformat_minor": 2
}
