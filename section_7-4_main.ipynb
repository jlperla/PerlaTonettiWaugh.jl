{
 "cells": [
  {
   "cell_type": "code",
   "execution_count": 9,
   "metadata": {
    "autoscroll": "auto",
    "options": {
     "caption": false,
     "complete": true,
     "display_data": true,
     "display_stream": true,
     "dpi": 200,
     "echo": true,
     "evaluate": true,
     "f_env": null,
     "f_pos": "htpb",
     "f_size": [
      6,
      4
     ],
     "f_spines": true,
     "fig": true,
     "include": true,
     "name": null,
     "option_string": "",
     "results": "verbatim",
     "term": false,
     "wrap": "output"
    }
   },
   "outputs": [],
   "source": [
    "import pandas as pd\n",
    "import matplotlib.pyplot as plt\n",
    "import numpy as np\n",
    "import os as os\n",
    "\n",
    "from mpl_toolkits.axes_grid1.inset_locator import zoomed_inset_axes\n",
    "from mpl_toolkits.axes_grid1.inset_locator import mark_inset"
   ]
  },
  {
   "cell_type": "markdown",
   "metadata": {},
   "source": [
    "---\n",
    "### [Equilibrium Technology Diffusion, Trade, and Growth](https://christophertonetti.com/files/papers/PerlaTonettiWaugh_DiffusionTradeAndGrowth.pdf) by Perla, Tonetti, and Waugh (AER 2020)\n",
    "\n",
    "## Section 7.4. The Welfare Effects of a Reduction in Trade Costs\n",
    "\n",
    "This is the main driver file that computes transition dynamics and generates figures and numbers reported in the paper. \n",
	"\n",
	"Table of Contents\n",
    "- [Compute Transition Dynamics](#trans)\n",
    "\n",
    "- [Figures](#figs)\n",
    "    - [Figure 1: Volume of Trade](#fig1)\n",
    "    - [Figure 2: Variety](#fig2)\n",
    "    - [Figure 3: Realocation Effects](#fig3)\n",
    "    - [Figure 4: Log Consumption](#fig4)\n",
    "    - [Figure 5: Productivity Growth](#fig5)"
   ]
  },
  {
   "cell_type": "markdown",
   "metadata": {},
   "source": [
    "---\n",
    "\n",
    "## <a name=\"trans\"></a> Compute Transition Dynamics"
   ]
  },
  {
   "cell_type": "code",
   "execution_count": 10,
   "metadata": {},
   "outputs": [],
   "source": [
    "julia_path = '''C:\\\\Users\\\\mwaugh\\\\AppData\\\\Local\\\\Programs\\\\Julia\\\\Julia-1.4.0\\\\bin\\\\julia.exe'''\n",
    "\n",
    "###Set correc Julia path for your configuration"
   ]
  },
  {
   "cell_type": "code",
   "execution_count": 11,
   "metadata": {},
   "outputs": [
    {
     "name": "stderr",
     "output_type": "stream",
     "text": [
      "[NbConvertApp] Converting notebook TransitionDynamics.ipynb to script\n",
      "[NbConvertApp] Writing 3460 bytes to TransitionDynamics.jl\n"
     ]
    },
    {
     "name": "stdout",
     "output_type": "stream",
     "text": [
      "\n",
      "-------------------------------------------------------------------------\n",
      "SS to SS Baseline vs. 10% Lower Trade Costs\n",
      "\n",
      "\n",
      "Change in Growth, Steady State to Steady State\n",
      "Growth in Baseline: 0.79\n",
      "Growth in New SS: 1.03\n",
      "\n",
      "\n",
      "Imports/GDP, Steady State to Steady State\n",
      "Imports/GDP in Baseline: 10.6\n",
      "Imports/GDP in New SS: 14.4\n",
      "\n",
      "\n",
      "Consumption Equivalent Welfare Gain, Steady State to Steady State\n",
      "CE gains: 11.2\n",
      "\n",
      "\n",
      "-------------------------------------------------------------------------\n",
      "\n",
      "Computing Transition Dynamics\n",
      "\n",
      "cachename: 1128371551232770518\n",
      "\n",
      "solving without cache\n",
      "486.873108 seconds (1.80 G allocations: 694.058 GiB, 14.00% gc time)\n",
      "\n",
      "-------------------------------------------------------------------------\n",
      "\n",
      "Consumption Equivalent Welfare Gain, Inclusive of Transition Path\n",
      "CE gains: 10.8\n",
      "\n"
     ]
    },
    {
     "name": "stderr",
     "output_type": "stream",
     "text": [
      "WARNING: using BenchmarkTools.params in module Main conflicts with an existing identifier.\n"
     ]
    }
   ],
   "source": [
    "!jupyter nbconvert --to script TransitionDynamics.ipynb\n",
    "\n",
    "julia_command = '''TransitionDynamics.jl'''\n",
    "\n",
    "!{julia_path} {julia_command}"
   ]
  },
  {
   "cell_type": "markdown",
   "metadata": {},
   "source": [
    "Load the transition path computed in [TransitionDynamics.ipynb](https://github.com/jlperla/PerlaTonettiWaugh.jl/blob/master/TransitionDynamics.ipynb)"
   ]
  },
  {
   "cell_type": "code",
   "execution_count": 12,
   "metadata": {
    "autoscroll": "auto",
    "options": {
     "caption": false,
     "complete": true,
     "display_data": true,
     "display_stream": true,
     "dpi": 200,
     "echo": true,
     "evaluate": true,
     "f_env": null,
     "f_pos": "htpb",
     "f_size": [
      6,
      4
     ],
     "f_spines": true,
     "fig": true,
     "include": true,
     "name": null,
     "option_string": "",
     "results": "verbatim",
     "term": false,
     "wrap": "output"
    }
   },
   "outputs": [],
   "source": [
    "output_location = \"data/\"\n",
    "hash_value = \"11368798858269829579\"\n",
    "output_location = output_location + hash_value + \".csv\"\n",
    "df = pd.read_csv(output_location) # front-loaded with values from stationary equilibrium computation\n",
    "fig_path = \"figures/\""
   ]
  },
  {
   "cell_type": "markdown",
   "metadata": {},
   "source": [
    "**Note:** The dataframe is front-loaded with the time-0 stationary solution. The transition dynamics start with change at ``loc[5]``"
   ]
  },
  {
   "cell_type": "markdown",
   "metadata": {},
   "source": [
    "## <a name=\"figs\"></a> Figures 1-5 in PTW"
   ]
  },
  {
   "cell_type": "markdown",
   "metadata": {},
   "source": [
    "--- \n",
    "### <a name=\"fig1\"></a>Figure 1: Volume of Trade"
   ]
  },
  {
   "cell_type": "code",
   "execution_count": 13,
   "metadata": {
    "autoscroll": "auto",
    "options": {
     "caption": false,
     "complete": true,
     "display_data": true,
     "display_stream": true,
     "dpi": 200,
     "echo": true,
     "evaluate": true,
     "f_env": null,
     "f_pos": "htpb",
     "f_size": [
      6,
      4
     ],
     "f_spines": true,
     "fig": true,
     "include": true,
     "name": null,
     "option_string": "",
     "results": "verbatim",
     "term": false,
     "wrap": "output"
    }
   },
   "outputs": [
    {
     "data": {
      "image/png": "[encoded data removed]",
      "text/plain": [
       "<Figure size 720x504 with 1 Axes>"
      ]
     },
     "metadata": {
      "needs_background": "light"
     },
     "output_type": "display_data"
    }
   ],
   "source": [
    "fig, ax = plt.subplots(figsize = (10,7))\n",
    "\n",
    "before = df.t <= 0\n",
    "after = df.t >= 0\n",
    "\n",
    "ax.plot(df.t, 100*(1-df.λ_ii), color = \"blue\", lw = 5,\n",
    "        label = \"Imports/GDP\", ls = \"-\", alpha = 0.78)\n",
    "\n",
    "ax.spines[\"top\"].set_visible(False)\n",
    "ax.spines[\"right\"].set_visible(False)\n",
    "\n",
    "ax.set_ylabel(\"Imports/GDP\", fontsize = 14) \n",
    "ax.set_xlim(-20,50)\n",
    "ax.set_ylim(9,15)\n",
    "\n",
    "plt.savefig(fig_path + \"trade.pdf\", bbox_inches = \"tight\", dip = 3600)\n",
    "\n",
    "plt.show()"
   ]
  },
  {
   "cell_type": "code",
   "execution_count": 14,
   "metadata": {},
   "outputs": [
    {
     "name": "stdout",
     "output_type": "stream",
     "text": [
      "Percentage Point Change in Imports/GDP Immediately After Change in d\n",
      "3.3645\n",
      "\n",
      "Percentage Point Change in Imports/GDP at New SS\n",
      "3.7817\n"
     ]
    }
   ],
   "source": [
    "print(\"Percentage Point Change in Imports/GDP Immediately After Change in d\")\n",
    "print(round(100*((1-df.λ_ii).iloc[5]-(1-df.λ_ii).iloc[0]),4))\n",
    "print(\"\")\n",
    "print(\"Percentage Point Change in Imports/GDP at New SS\")\n",
    "print(round(100*((1-df.λ_ii).iloc[-1]-(1-df.λ_ii).iloc[0]),4))"
   ]
  },
  {
   "cell_type": "markdown",
   "metadata": {},
   "source": [
    "---\n",
    "\n",
    "### <a name=\"fig2\"></a>Figrue 2: Domestic Variety "
   ]
  },
  {
   "cell_type": "code",
   "execution_count": 15,
   "metadata": {
    "autoscroll": "auto",
    "options": {
     "caption": false,
     "complete": true,
     "display_data": true,
     "display_stream": true,
     "dpi": 200,
     "echo": true,
     "evaluate": true,
     "f_env": null,
     "f_pos": "htpb",
     "f_size": [
      6,
      4
     ],
     "f_spines": true,
     "fig": true,
     "include": true,
     "name": null,
     "option_string": "",
     "results": "verbatim",
     "term": false,
     "wrap": "output"
    }
   },
   "outputs": [
    {
     "data": {
      "image/png": "[encoded data removed]",
      "text/plain": [
       "<Figure size 720x504 with 1 Axes>"
      ]
     },
     "metadata": {
      "needs_background": "light"
     },
     "output_type": "display_data"
    }
   ],
   "source": [
    "fig, ax = plt.subplots(figsize = (10,7))\n",
    "\n",
    "before = df.t <= 0\n",
    "after = df.t >= 0\n",
    "\n",
    "ax.plot(df.t, df.Ω/df.Ω.iloc[0], color = \"red\", lw = 5,\n",
    "        label = \"\", ls = \"-\")\n",
    "\n",
    "ax.spines[\"top\"].set_visible(False)\n",
    "ax.spines[\"right\"].set_visible(False)\n",
    "\n",
    "ax.set_ylabel(\"Domestic Variety \\n Normalized, Initial S.S. = 1\", fontsize = 14) \n",
    "\n",
    "ax.set_ylim(0.94,1.04)\n",
    "\n",
    "ax.set_xlim(-20,50)\n",
    "\n",
    "plt.savefig(fig_path + \"omega.pdf\", bbox_inches = \"tight\", dip = 3600)\n",
    "\n",
    "plt.show()"
   ]
  },
  {
   "cell_type": "code",
   "execution_count": 16,
   "metadata": {},
   "outputs": [
    {
     "name": "stdout",
     "output_type": "stream",
     "text": [
      "Normalized Variety Prior to Change in d (Relative to Initial SS)\n",
      "1.0\n",
      "\n",
      "Normalized Variety Immediately After Change in d (Relative to Initial SS)\n",
      "0.9995\n",
      "\n",
      "Normalized Variety At New SS (Relative to Initial SS)\n",
      "0.9498\n"
     ]
    }
   ],
   "source": [
    "print(\"Normalized Variety Prior to Change in d (Relative to Initial SS)\")\n",
    "print(round((df.Ω/df.Ω.iloc[0]).iloc[0],4))\n",
    "print(\"\")\n",
    "print(\"Normalized Variety Immediately After Change in d (Relative to Initial SS)\")\n",
    "print(round((df.Ω/df.Ω.iloc[0]).iloc[6],4))\n",
    "print(\"\")\n",
    "print(\"Normalized Variety At New SS (Relative to Initial SS)\")\n",
    "print(round((df.Ω/df.Ω.iloc[0]).iloc[-1],4))"
   ]
  },
  {
   "cell_type": "markdown",
   "metadata": {},
   "source": [
    "---\n",
    "\n",
    "### <a name=\"fig3\"></a>Figure 3: Reallocation Effects"
   ]
  },
  {
   "cell_type": "code",
   "execution_count": 17,
   "metadata": {},
   "outputs": [
    {
     "data": {
      "image/png": "[encoded data removed]",
      "text/plain": [
       "<Figure size 864x504 with 4 Axes>"
      ]
     },
     "metadata": {
      "needs_background": "light"
     },
     "output_type": "display_data"
    }
   ],
   "source": [
    "fig, ax = plt.subplots(2,2,figsize = (12,7))\n",
    "\n",
    "fig.tight_layout(pad = 6)\n",
    "\n",
    "fig.text(-0.01, 0.5, \"Breakdown of Labor Outside of Production,\\n Percentage Point Change relative to SS\"\n",
    "         , va='center', rotation='vertical',fontsize = 14)\n",
    "\n",
    "############################################################################################################\n",
    "postion = (0,0)\n",
    "\n",
    "ax[postion].plot(df.t, 100*((df.L_tilde_x) - (df.L_tilde_x.iloc[0])), color = \"black\", \n",
    "           lw = 5, ls = \"-.\", alpha = 0.70, label = \"Exporting Costs\")\n",
    "\n",
    "ax[postion].spines[\"top\"].set_visible(False)\n",
    "ax[postion].spines[\"right\"].set_visible(False)\n",
    "\n",
    "ax[postion].set_xlim(-20,50)\n",
    "ax[postion].set_ylim(-1.0,1.0)\n",
    "\n",
    "ax[postion].set_title(\"Exporter Costs\")\n",
    "\n",
    "############################################################################################################\n",
    "\n",
    "postion = (0,1)\n",
    "\n",
    "ax[postion].plot(df.t, 100*((df.L_tilde_a) - (df.L_tilde_a.iloc[0])), color = \"black\",\n",
    "           lw = 5, ls = \"-\", alpha = 0.70, label = \"Adoption Costs\")\n",
    "\n",
    "ax[postion].spines[\"top\"].set_visible(False)\n",
    "ax[postion].spines[\"right\"].set_visible(False)\n",
    "\n",
    "ax[postion].set_xlim(-20,50)\n",
    "ax[postion].set_ylim(-1.0,1.0)\n",
    "ax[postion].set_title(\"Adoption Costs\")\n",
    "\n",
    "############################################################################################################\n",
    "\n",
    "postion = (1,0)\n",
    "\n",
    "ax[postion].plot(df.t, 100*(df.L_tilde_E - df.L_tilde_E.iloc[0]) , color = \"blue\", \n",
    "           lw = 5, ls = \"-\", alpha = 0.70, label = \"Entry Costs\")\n",
    "\n",
    "ax[postion].spines[\"top\"].set_visible(False)\n",
    "ax[postion].spines[\"right\"].set_visible(False)\n",
    "\n",
    "ax[postion].set_xlim(-20,50)\n",
    "ax[postion].set_ylim(-2.5,1.0)\n",
    "\n",
    "ax[postion].set_title(\"Entry Costs\")\n",
    "\n",
    "############################################################################################################\n",
    "\n",
    "postion = (1,1)\n",
    "\n",
    "ax[postion].plot(df.t, 100*(df.L_tilde - df.L_tilde.iloc[0])\n",
    "           , color = \"red\", lw = 5, ls = \"-\", alpha = 0.80, label = \"Total Fixed Costs\")\n",
    "\n",
    "ax[postion].spines[\"top\"].set_visible(False)\n",
    "ax[postion].spines[\"right\"].set_visible(False)\n",
    "\n",
    "ax[postion].set_xlim(-20,50)\n",
    "ax[postion].set_ylim(-1.50,1.0)\n",
    "\n",
    "\n",
    "ax[postion].set_title(\"Total Labor Outside of Production\")\n",
    "\n",
    "############################################################################################################\n",
    "plt.savefig(fig_path + \"fixed_costs.pdf\", bbox_inches = \"tight\", dip = 3600)\n",
    "\n",
    "plt.show()"
   ]
  },
  {
   "cell_type": "markdown",
   "metadata": {},
   "source": [
    "#### Exporter Costs"
   ]
  },
  {
   "cell_type": "code",
   "execution_count": 18,
   "metadata": {},
   "outputs": [
    {
     "name": "stdout",
     "output_type": "stream",
     "text": [
      "Exporter Costs Prior to Change in d (Percentage Point Change relative to SS)\n",
      "0.0\n",
      "\n",
      "Exporter Costs Immediately After Change in d  (Percentage Point Change relative to SS)\n",
      "0.7077\n",
      "\n",
      "Exporter Costs at New SS  (Percentage Point Change relative to SS)\n",
      "0.7338\n"
     ]
    }
   ],
   "source": [
    "cost_measure = 100*((df.L_tilde_x) - (df.L_tilde_x.iloc[0]))\n",
    "\n",
    "print(\"Exporter Costs Prior to Change in d (Percentage Point Change relative to SS)\")\n",
    "print(round(cost_measure.iloc[0],4))\n",
    "print(\"\")\n",
    "print(\"Exporter Costs Immediately After Change in d  (Percentage Point Change relative to SS)\")\n",
    "print(round(cost_measure.iloc[5],4))\n",
    "print(\"\")\n",
    "print(\"Exporter Costs At New SS  (Percentage Point Change relative to SS)\")\n",
    "print(round(cost_measure.iloc[-1],4))"
   ]
  },
  {
   "cell_type": "markdown",
   "metadata": {},
   "source": [
    "#### Adoption Costs"
   ]
  },
  {
   "cell_type": "code",
   "execution_count": 19,
   "metadata": {},
   "outputs": [
    {
     "name": "stdout",
     "output_type": "stream",
     "text": [
      "Adoption Costs Prior to Change in d (Percentage Point Change relative to SS)\n",
      "0.0\n",
      "\n",
      "Adoption Costs Immediately After Change in d  (Percentage Point Change relative to SS)\n",
      "0.3635\n",
      "\n",
      "Adoption Costs at New SS  (Percentage Point Change relative to SS)\n",
      "0.1888\n"
     ]
    }
   ],
   "source": [
    "cost_measure = 100*((df.L_tilde_a) - (df.L_tilde_a.iloc[0]))\n",
    "\n",
    "print(\"Adoption Costs Prior to Change in d (Percentage Point Change relative to SS)\")\n",
    "print(round(cost_measure.iloc[0],4))\n",
    "print(\"\")\n",
    "print(\"Adoption Costs Immediately After Change in d  (Percentage Point Change relative to SS)\")\n",
    "print(round(cost_measure.iloc[5],4))\n",
    "print(\"\")\n",
    "print(\"Adoption Costs At New SS  (Percentage Point Change relative to SS)\")\n",
    "print(round(cost_measure.iloc[-1],4))"
   ]
  },
  {
   "cell_type": "markdown",
   "metadata": {},
   "source": [
    "#### Entry Costs"
   ]
  },
  {
   "cell_type": "code",
   "execution_count": 20,
   "metadata": {},
   "outputs": [
    {
     "name": "stdout",
     "output_type": "stream",
     "text": [
      "Entry Costs Prior to Change in d (Percentage Point Change relative to SS)\n",
      "0.0\n",
      "\n",
      "Entry Costs Immediately After Change in d  (Percentage Point Change relative to SS)\n",
      "-2.2344\n",
      "\n",
      "Entry Costs At New SS  (Percentage Point Change relative to SS)\n",
      "-0.5428\n"
     ]
    }
   ],
   "source": [
    "cost_measure = 100*(df.L_tilde_E - df.L_tilde_E.iloc[0])\n",
    "\n",
    "print(\"Entry Costs Prior to Change in d (Percentage Point Change relative to SS)\")\n",
    "print(round(cost_measure.iloc[0],4))\n",
    "print(\"\")\n",
    "print(\"Entry Costs Immediately After Change in d  (Percentage Point Change relative to SS)\")\n",
    "print(round(cost_measure.iloc[5],4))\n",
    "print(\"\")\n",
    "print(\"Entry Costs At New SS  (Percentage Point Change relative to SS)\")\n",
    "print(round(cost_measure.iloc[-1],4))"
   ]
  },
  {
   "cell_type": "markdown",
   "metadata": {},
   "source": [
    "#### Total Labor Outside of Production"
   ]
  },
  {
   "cell_type": "code",
   "execution_count": 21,
   "metadata": {},
   "outputs": [
    {
     "name": "stdout",
     "output_type": "stream",
     "text": [
      "Total Labor Outside of Production Prior to Change in d (Percentage Point Change relative to SS)\n",
      "0.0\n",
      "\n",
      "Total Labor Outside of Production Immediately After Change in d  (Percentage Point Change relative to SS)\n",
      "-1.1632\n",
      "\n",
      "Total Labor Outside of Production At New SS  (Percentage Point Change relative to SS)\n",
      "0.3798\n"
     ]
    }
   ],
   "source": [
    "cost_measure = 100*(df.L_tilde - df.L_tilde.iloc[0])\n",
    "\n",
    "print(\"Total Labor Outside of Production Prior to Change in d (Percentage Point Change relative to SS)\")\n",
    "print(round(cost_measure.iloc[0],4))\n",
    "print(\"\")\n",
    "print(\"Total Labor Outside of Production Immediately After Change in d  (Percentage Point Change relative to SS)\")\n",
    "print(round(cost_measure.iloc[5],4))\n",
    "print(\"\")\n",
    "print(\"Total Labor Outside of Production At New SS  (Percentage Point Change relative to SS)\")\n",
    "print(round(cost_measure.iloc[-1],4))"
   ]
  },
  {
   "cell_type": "markdown",
   "metadata": {},
   "source": [
    "---\n",
    "### <a name=\"fig4\"></a>Figure 4: Log Consumption"
   ]
  },
  {
   "cell_type": "code",
   "execution_count": 22,
   "metadata": {},
   "outputs": [
    {
     "data": {
      "image/png": "[encoded data removed]",
      "text/plain": [
       "<Figure size 720x504 with 2 Axes>"
      ]
     },
     "metadata": {
      "needs_background": "light"
     },
     "output_type": "display_data"
    }
   ],
   "source": [
    "fig, ax = plt.subplots(figsize = (10,7))\n",
    "\n",
    "before = df.t <= 0\n",
    "after = df.t >= 0\n",
    "\n",
    "ax.plot(df.t, (np.log(df.c) + df.log_M) - (np.log(df.c) + df.log_M).iloc[4] +1, color = \"red\", lw = 5,\n",
    "       label = \"Log Consumption\")\n",
    "\n",
    "ax.plot(df.t, (df.log_M) - (df.log_M).iloc[4] + 1, color = \"k\", ls = \"-.\", alpha = 0.5, lw = 3,\n",
    "       label = \"Log Productivity\")\n",
    "        \n",
    "ax.spines[\"top\"].set_visible(False)\n",
    "ax.spines[\"right\"].set_visible(False)\n",
    "\n",
    "ax.set_ylabel(\"Log Consumption & Productivity\\n Normalized, t-1 = 1\", fontsize = 14) \n",
    "\n",
    "#ax.set_ylim(1-0.06,1+0.25)\n",
    "ax.set_xlim(-20,50)\n",
    "\n",
    "ax.legend(fontsize = 14, frameon = False)\n",
    "\n",
    "axins = zoomed_inset_axes(ax, # The original ax\n",
    "                          1.5, # zoom level\n",
    "                          loc=4, # location\n",
    "                          borderpad=2)  # space around it relative to figure\n",
    "\n",
    "axins.plot(df.t, (np.log(df.c) + df.log_M) - (np.log(df.c) + df.log_M).iloc[4] +1, color = \"red\", lw = 5,\n",
    "       label = \"Log Consumption\")\n",
    "\n",
    "axins.plot(df.t, (df.log_M) - (df.log_M).iloc[4]+1, color = \"k\", ls = \"-.\", alpha = 0.5, lw = 3,\n",
    "       label = \"Log Productivity\")\n",
    "        \n",
    "axins.set_xlim(-5,5)\n",
    "axins.set_ylim(1-0.06,1+0.10)\n",
    "\n",
    "mark_inset(ax, axins, loc1=3, loc2=2, alpha = 0.15)\n",
    "\n",
    "axins.spines[\"top\"].set_visible(False)\n",
    "axins.spines[\"right\"].set_visible(False)\n",
    "\n",
    "plt.savefig(fig_path + \"log_consumption_inset.pdf\", bbox_inches = \"tight\", dip = 3600)\n",
    "\n",
    "plt.show()"
   ]
  },
  {
   "cell_type": "code",
   "execution_count": 23,
   "metadata": {},
   "outputs": [
    {
     "name": "stdout",
     "output_type": "stream",
     "text": [
      "Normalized Consumption Prior to Change in d (Relative to Initial SS)\n",
      "1.0\n",
      "\n",
      "Normalized Consumption Immediately After Change in d (Relative to Initial SS)\n",
      "1.0335\n",
      "\n",
      "Normalized Consumption At New SS (Relative to Initial SS)\n",
      "0.9912\n"
     ]
    }
   ],
   "source": [
    "print(\"Normalized Consumption Prior to Change in d (Relative to Initial SS)\")\n",
    "print(round((df.c/df.c.iloc[0]).iloc[0],4))\n",
    "print(\"\")\n",
    "print(\"Normalized Consumption Immediately After Change in d (Relative to Initial SS)\")\n",
    "print(round((df.c/df.c.iloc[0]).iloc[5],4))\n",
    "print(\"\")\n",
    "print(\"Normalized Consumption At New SS (Relative to Initial SS)\")\n",
    "print(round((df.c/df.c.iloc[0]).iloc[-1],4))"
   ]
  },
  {
   "cell_type": "markdown",
   "metadata": {},
   "source": [
    "---\n",
    "\n",
    "### <a name=\"fig5\"></a> Figure 5: Productivity Growth"
   ]
  },
  {
   "cell_type": "code",
   "execution_count": 24,
   "metadata": {
    "autoscroll": "auto",
    "options": {
     "caption": false,
     "complete": true,
     "display_data": true,
     "display_stream": true,
     "dpi": 200,
     "echo": true,
     "evaluate": true,
     "f_env": null,
     "f_pos": "htpb",
     "f_size": [
      6,
      4
     ],
     "f_spines": true,
     "fig": true,
     "include": true,
     "name": null,
     "option_string": "",
     "results": "verbatim",
     "term": false,
     "wrap": "output"
    }
   },
   "outputs": [
    {
     "data": {
      "image/png": "[encoded data removed]",
      "text/plain": [
       "<Figure size 720x504 with 1 Axes>"
      ]
     },
     "metadata": {
      "needs_background": "light"
     },
     "output_type": "display_data"
    }
   ],
   "source": [
    "fig, ax = plt.subplots(figsize = (10,7))\n",
    "\n",
    "before = df.t <= 0\n",
    "after = df.t >= 0\n",
    "\n",
    "ax.plot(df.t, 100*(df.g), color = \"red\", lw = 5,\n",
    "        label = \"Growth Rate\", ls = \"-\", alpha = 0.78)\n",
    "\n",
    "ax.spines[\"top\"].set_visible(False)\n",
    "ax.spines[\"right\"].set_visible(False)\n",
    "\n",
    "ax.set_ylabel(\"Productivity Growth\", fontsize = 14) \n",
    "ax.set_xlim(-20,50)\n",
    "ax.set_ylim(0.6,1.10)\n",
    "\n",
    "plt.savefig(fig_path + \"growth.pdf\", bbox_inches = \"tight\", dip = 3600)\n",
    "\n",
    "plt.show()"
   ]
  },
  {
   "cell_type": "code",
   "execution_count": 25,
   "metadata": {},
   "outputs": [
    {
     "name": "stdout",
     "output_type": "stream",
     "text": [
      "Productivity Growth at Initial SS\n",
      "0.0079\n",
      "\n",
      "Productivity Growth Immediately After Change in d\n",
      "0.009\n",
      "\n",
      "Productivity Growth at New SS\n",
      "0.0103\n"
     ]
    }
   ],
   "source": [
    "print(\"Productivity Growth at Initial SS\")\n",
    "print(round(df.g.iloc[0],4))\n",
    "print(\"\")\n",
    "print(\"Productivity Growth Immediately After Change in d\")\n",
    "print(round(df.g.iloc[5],4))\n",
    "print(\"\")\n",
    "print(\"Productivity Growth at New SS\")\n",
    "print(round(df.g.iloc[-1],4))"
   ]
  },
  {
   "cell_type": "code",
   "execution_count": null,
   "metadata": {},
   "outputs": [],
   "source": []
  }
 ],
 "metadata": {
  "hide_input": false,
  "kernel_info": {
   "name": "python3"
  },
  "kernelspec": {
   "display_name": "Python 3",
   "language": "python",
   "name": "python3"
  },
  "language_info": {
   "codemirror_mode": {
    "name": "ipython",
    "version": 3
   },
   "file_extension": ".py",
   "mimetype": "text/x-python",
   "name": "python",
   "nbconvert_exporter": "python",
   "pygments_lexer": "ipython3",
   "version": "3.7.3"
  }
 },
 "nbformat": 4,
 "nbformat_minor": 4
}
